{
 "cells": [
  {
   "cell_type": "markdown",
   "id": "16ef7301",
   "metadata": {},
   "source": [
    "# Sentimental Analysis for Tweets .\n",
    "\n"
   ]
  },
  {
   "cell_type": "markdown",
   "id": "196ea980",
   "metadata": {},
   "source": [
    "# IMPORTING NECESSARY LIBRARIES"
   ]
  },
  {
   "cell_type": "code",
   "execution_count": 46,
   "id": "0c946aa1",
   "metadata": {},
   "outputs": [],
   "source": [
    "import pandas as pd\n",
    "import numpy as np\n",
    "import matplotlib.pyplot as plt\n",
    "import matplotlib as mpl\n",
    "import seaborn as sns\n",
    "import re\n",
    "import nltk\n",
    "import string\n",
    "from nltk.tokenize import word_tokenize"
   ]
  },
  {
   "cell_type": "code",
   "execution_count": 47,
   "id": "a354be3a",
   "metadata": {},
   "outputs": [],
   "source": [
    "dataset = pd.read_csv(\"sentiment_tweets3.csv\")"
   ]
  },
  {
   "cell_type": "code",
   "execution_count": 48,
   "id": "ab43ad07",
   "metadata": {},
   "outputs": [
    {
     "data": {
      "text/html": [
       "<div>\n",
       "<style scoped>\n",
       "    .dataframe tbody tr th:only-of-type {\n",
       "        vertical-align: middle;\n",
       "    }\n",
       "\n",
       "    .dataframe tbody tr th {\n",
       "        vertical-align: top;\n",
       "    }\n",
       "\n",
       "    .dataframe thead th {\n",
       "        text-align: right;\n",
       "    }\n",
       "</style>\n",
       "<table border=\"1\" class=\"dataframe\">\n",
       "  <thead>\n",
       "    <tr style=\"text-align: right;\">\n",
       "      <th></th>\n",
       "      <th>Index</th>\n",
       "      <th>message to examine</th>\n",
       "      <th>label (depression result)</th>\n",
       "    </tr>\n",
       "  </thead>\n",
       "  <tbody>\n",
       "    <tr>\n",
       "      <th>0</th>\n",
       "      <td>106</td>\n",
       "      <td>just had a real good moment. i missssssssss hi...</td>\n",
       "      <td>0</td>\n",
       "    </tr>\n",
       "    <tr>\n",
       "      <th>1</th>\n",
       "      <td>217</td>\n",
       "      <td>is reading manga  http://plurk.com/p/mzp1e</td>\n",
       "      <td>0</td>\n",
       "    </tr>\n",
       "    <tr>\n",
       "      <th>2</th>\n",
       "      <td>220</td>\n",
       "      <td>@comeagainjen http://twitpic.com/2y2lx - http:...</td>\n",
       "      <td>0</td>\n",
       "    </tr>\n",
       "    <tr>\n",
       "      <th>3</th>\n",
       "      <td>288</td>\n",
       "      <td>@lapcat Need to send 'em to my accountant tomo...</td>\n",
       "      <td>0</td>\n",
       "    </tr>\n",
       "    <tr>\n",
       "      <th>4</th>\n",
       "      <td>540</td>\n",
       "      <td>ADD ME ON MYSPACE!!!  myspace.com/LookThunder</td>\n",
       "      <td>0</td>\n",
       "    </tr>\n",
       "    <tr>\n",
       "      <th>...</th>\n",
       "      <td>...</td>\n",
       "      <td>...</td>\n",
       "      <td>...</td>\n",
       "    </tr>\n",
       "    <tr>\n",
       "      <th>10309</th>\n",
       "      <td>802309</td>\n",
       "      <td>No Depression by G Herbo is my mood from now o...</td>\n",
       "      <td>1</td>\n",
       "    </tr>\n",
       "    <tr>\n",
       "      <th>10310</th>\n",
       "      <td>802310</td>\n",
       "      <td>What do you do when depression succumbs the br...</td>\n",
       "      <td>1</td>\n",
       "    </tr>\n",
       "    <tr>\n",
       "      <th>10311</th>\n",
       "      <td>802311</td>\n",
       "      <td>Ketamine Nasal Spray Shows Promise Against Dep...</td>\n",
       "      <td>1</td>\n",
       "    </tr>\n",
       "    <tr>\n",
       "      <th>10312</th>\n",
       "      <td>802312</td>\n",
       "      <td>dont mistake a bad day with depression! everyo...</td>\n",
       "      <td>1</td>\n",
       "    </tr>\n",
       "    <tr>\n",
       "      <th>10313</th>\n",
       "      <td>802313</td>\n",
       "      <td>0</td>\n",
       "      <td>1</td>\n",
       "    </tr>\n",
       "  </tbody>\n",
       "</table>\n",
       "<p>10314 rows × 3 columns</p>\n",
       "</div>"
      ],
      "text/plain": [
       "        Index                                 message to examine  \\\n",
       "0         106  just had a real good moment. i missssssssss hi...   \n",
       "1         217         is reading manga  http://plurk.com/p/mzp1e   \n",
       "2         220  @comeagainjen http://twitpic.com/2y2lx - http:...   \n",
       "3         288  @lapcat Need to send 'em to my accountant tomo...   \n",
       "4         540      ADD ME ON MYSPACE!!!  myspace.com/LookThunder   \n",
       "...       ...                                                ...   \n",
       "10309  802309  No Depression by G Herbo is my mood from now o...   \n",
       "10310  802310  What do you do when depression succumbs the br...   \n",
       "10311  802311  Ketamine Nasal Spray Shows Promise Against Dep...   \n",
       "10312  802312  dont mistake a bad day with depression! everyo...   \n",
       "10313  802313                                                  0   \n",
       "\n",
       "       label (depression result)  \n",
       "0                              0  \n",
       "1                              0  \n",
       "2                              0  \n",
       "3                              0  \n",
       "4                              0  \n",
       "...                          ...  \n",
       "10309                          1  \n",
       "10310                          1  \n",
       "10311                          1  \n",
       "10312                          1  \n",
       "10313                          1  \n",
       "\n",
       "[10314 rows x 3 columns]"
      ]
     },
     "execution_count": 48,
     "metadata": {},
     "output_type": "execute_result"
    }
   ],
   "source": [
    "dataset"
   ]
  },
  {
   "cell_type": "code",
   "execution_count": 49,
   "id": "43adb4f0",
   "metadata": {},
   "outputs": [
    {
     "data": {
      "text/html": [
       "<div>\n",
       "<style scoped>\n",
       "    .dataframe tbody tr th:only-of-type {\n",
       "        vertical-align: middle;\n",
       "    }\n",
       "\n",
       "    .dataframe tbody tr th {\n",
       "        vertical-align: top;\n",
       "    }\n",
       "\n",
       "    .dataframe thead th {\n",
       "        text-align: right;\n",
       "    }\n",
       "</style>\n",
       "<table border=\"1\" class=\"dataframe\">\n",
       "  <thead>\n",
       "    <tr style=\"text-align: right;\">\n",
       "      <th></th>\n",
       "      <th>Index</th>\n",
       "      <th>text</th>\n",
       "      <th>Category</th>\n",
       "    </tr>\n",
       "  </thead>\n",
       "  <tbody>\n",
       "    <tr>\n",
       "      <th>0</th>\n",
       "      <td>106</td>\n",
       "      <td>just had a real good moment. i missssssssss hi...</td>\n",
       "      <td>0</td>\n",
       "    </tr>\n",
       "    <tr>\n",
       "      <th>1</th>\n",
       "      <td>217</td>\n",
       "      <td>is reading manga  http://plurk.com/p/mzp1e</td>\n",
       "      <td>0</td>\n",
       "    </tr>\n",
       "    <tr>\n",
       "      <th>2</th>\n",
       "      <td>220</td>\n",
       "      <td>@comeagainjen http://twitpic.com/2y2lx - http:...</td>\n",
       "      <td>0</td>\n",
       "    </tr>\n",
       "    <tr>\n",
       "      <th>3</th>\n",
       "      <td>288</td>\n",
       "      <td>@lapcat Need to send 'em to my accountant tomo...</td>\n",
       "      <td>0</td>\n",
       "    </tr>\n",
       "    <tr>\n",
       "      <th>4</th>\n",
       "      <td>540</td>\n",
       "      <td>ADD ME ON MYSPACE!!!  myspace.com/LookThunder</td>\n",
       "      <td>0</td>\n",
       "    </tr>\n",
       "    <tr>\n",
       "      <th>...</th>\n",
       "      <td>...</td>\n",
       "      <td>...</td>\n",
       "      <td>...</td>\n",
       "    </tr>\n",
       "    <tr>\n",
       "      <th>10309</th>\n",
       "      <td>802309</td>\n",
       "      <td>No Depression by G Herbo is my mood from now o...</td>\n",
       "      <td>1</td>\n",
       "    </tr>\n",
       "    <tr>\n",
       "      <th>10310</th>\n",
       "      <td>802310</td>\n",
       "      <td>What do you do when depression succumbs the br...</td>\n",
       "      <td>1</td>\n",
       "    </tr>\n",
       "    <tr>\n",
       "      <th>10311</th>\n",
       "      <td>802311</td>\n",
       "      <td>Ketamine Nasal Spray Shows Promise Against Dep...</td>\n",
       "      <td>1</td>\n",
       "    </tr>\n",
       "    <tr>\n",
       "      <th>10312</th>\n",
       "      <td>802312</td>\n",
       "      <td>dont mistake a bad day with depression! everyo...</td>\n",
       "      <td>1</td>\n",
       "    </tr>\n",
       "    <tr>\n",
       "      <th>10313</th>\n",
       "      <td>802313</td>\n",
       "      <td>0</td>\n",
       "      <td>1</td>\n",
       "    </tr>\n",
       "  </tbody>\n",
       "</table>\n",
       "<p>10314 rows × 3 columns</p>\n",
       "</div>"
      ],
      "text/plain": [
       "        Index                                               text  Category\n",
       "0         106  just had a real good moment. i missssssssss hi...         0\n",
       "1         217         is reading manga  http://plurk.com/p/mzp1e         0\n",
       "2         220  @comeagainjen http://twitpic.com/2y2lx - http:...         0\n",
       "3         288  @lapcat Need to send 'em to my accountant tomo...         0\n",
       "4         540      ADD ME ON MYSPACE!!!  myspace.com/LookThunder         0\n",
       "...       ...                                                ...       ...\n",
       "10309  802309  No Depression by G Herbo is my mood from now o...         1\n",
       "10310  802310  What do you do when depression succumbs the br...         1\n",
       "10311  802311  Ketamine Nasal Spray Shows Promise Against Dep...         1\n",
       "10312  802312  dont mistake a bad day with depression! everyo...         1\n",
       "10313  802313                                                  0         1\n",
       "\n",
       "[10314 rows x 3 columns]"
      ]
     },
     "execution_count": 49,
     "metadata": {},
     "output_type": "execute_result"
    }
   ],
   "source": [
    "dataset= dataset.rename(columns = {\"message to examine\":\"text\", \"label (depression result)\" :\"Category\" })\n",
    "dataset"
   ]
  },
  {
   "cell_type": "markdown",
   "id": "91eb4797",
   "metadata": {},
   "source": [
    "# Data Preprocessing"
   ]
  },
  {
   "cell_type": "code",
   "execution_count": 50,
   "id": "88d347b5",
   "metadata": {},
   "outputs": [
    {
     "data": {
      "text/html": [
       "<div>\n",
       "<style scoped>\n",
       "    .dataframe tbody tr th:only-of-type {\n",
       "        vertical-align: middle;\n",
       "    }\n",
       "\n",
       "    .dataframe tbody tr th {\n",
       "        vertical-align: top;\n",
       "    }\n",
       "\n",
       "    .dataframe thead th {\n",
       "        text-align: right;\n",
       "    }\n",
       "</style>\n",
       "<table border=\"1\" class=\"dataframe\">\n",
       "  <thead>\n",
       "    <tr style=\"text-align: right;\">\n",
       "      <th></th>\n",
       "      <th>text</th>\n",
       "      <th>Category</th>\n",
       "    </tr>\n",
       "  </thead>\n",
       "  <tbody>\n",
       "    <tr>\n",
       "      <th>0</th>\n",
       "      <td>just had a real good moment. i missssssssss hi...</td>\n",
       "      <td>0</td>\n",
       "    </tr>\n",
       "    <tr>\n",
       "      <th>1</th>\n",
       "      <td>is reading manga  http://plurk.com/p/mzp1e</td>\n",
       "      <td>0</td>\n",
       "    </tr>\n",
       "    <tr>\n",
       "      <th>2</th>\n",
       "      <td>@comeagainjen http://twitpic.com/2y2lx - http:...</td>\n",
       "      <td>0</td>\n",
       "    </tr>\n",
       "    <tr>\n",
       "      <th>3</th>\n",
       "      <td>@lapcat Need to send 'em to my accountant tomo...</td>\n",
       "      <td>0</td>\n",
       "    </tr>\n",
       "    <tr>\n",
       "      <th>4</th>\n",
       "      <td>ADD ME ON MYSPACE!!!  myspace.com/LookThunder</td>\n",
       "      <td>0</td>\n",
       "    </tr>\n",
       "    <tr>\n",
       "      <th>...</th>\n",
       "      <td>...</td>\n",
       "      <td>...</td>\n",
       "    </tr>\n",
       "    <tr>\n",
       "      <th>10309</th>\n",
       "      <td>No Depression by G Herbo is my mood from now o...</td>\n",
       "      <td>1</td>\n",
       "    </tr>\n",
       "    <tr>\n",
       "      <th>10310</th>\n",
       "      <td>What do you do when depression succumbs the br...</td>\n",
       "      <td>1</td>\n",
       "    </tr>\n",
       "    <tr>\n",
       "      <th>10311</th>\n",
       "      <td>Ketamine Nasal Spray Shows Promise Against Dep...</td>\n",
       "      <td>1</td>\n",
       "    </tr>\n",
       "    <tr>\n",
       "      <th>10312</th>\n",
       "      <td>dont mistake a bad day with depression! everyo...</td>\n",
       "      <td>1</td>\n",
       "    </tr>\n",
       "    <tr>\n",
       "      <th>10313</th>\n",
       "      <td>0</td>\n",
       "      <td>1</td>\n",
       "    </tr>\n",
       "  </tbody>\n",
       "</table>\n",
       "<p>10314 rows × 2 columns</p>\n",
       "</div>"
      ],
      "text/plain": [
       "                                                    text  Category\n",
       "0      just had a real good moment. i missssssssss hi...         0\n",
       "1             is reading manga  http://plurk.com/p/mzp1e         0\n",
       "2      @comeagainjen http://twitpic.com/2y2lx - http:...         0\n",
       "3      @lapcat Need to send 'em to my accountant tomo...         0\n",
       "4          ADD ME ON MYSPACE!!!  myspace.com/LookThunder         0\n",
       "...                                                  ...       ...\n",
       "10309  No Depression by G Herbo is my mood from now o...         1\n",
       "10310  What do you do when depression succumbs the br...         1\n",
       "10311  Ketamine Nasal Spray Shows Promise Against Dep...         1\n",
       "10312  dont mistake a bad day with depression! everyo...         1\n",
       "10313                                                  0         1\n",
       "\n",
       "[10314 rows x 2 columns]"
      ]
     },
     "execution_count": 50,
     "metadata": {},
     "output_type": "execute_result"
    }
   ],
   "source": [
    "dataset = dataset[[\"text\", \"Category\"]]\n",
    "dataset"
   ]
  },
  {
   "cell_type": "code",
   "execution_count": 51,
   "id": "661f9dd3",
   "metadata": {},
   "outputs": [
    {
     "name": "stdout",
     "output_type": "stream",
     "text": [
      "the number of row :  10314\n",
      "the number of column :  2\n"
     ]
    }
   ],
   "source": [
    "dataset.shape\n",
    "print(\"the number of row : \",dataset.shape[0])\n",
    "print(\"the number of column : \",dataset.shape[1])"
   ]
  },
  {
   "cell_type": "code",
   "execution_count": 52,
   "id": "ac1c61d1",
   "metadata": {},
   "outputs": [
    {
     "name": "stdout",
     "output_type": "stream",
     "text": [
      "<class 'pandas.core.frame.DataFrame'>\n",
      "RangeIndex: 10314 entries, 0 to 10313\n",
      "Data columns (total 2 columns):\n",
      " #   Column    Non-Null Count  Dtype \n",
      "---  ------    --------------  ----- \n",
      " 0   text      10314 non-null  object\n",
      " 1   Category  10314 non-null  int64 \n",
      "dtypes: int64(1), object(1)\n",
      "memory usage: 161.3+ KB\n"
     ]
    }
   ],
   "source": [
    "dataset.info()"
   ]
  },
  {
   "cell_type": "code",
   "execution_count": 53,
   "id": "5ac7b002",
   "metadata": {},
   "outputs": [
    {
     "data": {
      "text/plain": [
       "text        0\n",
       "Category    0\n",
       "dtype: int64"
      ]
     },
     "execution_count": 53,
     "metadata": {},
     "output_type": "execute_result"
    }
   ],
   "source": [
    "dataset.isnull().sum()"
   ]
  },
  {
   "cell_type": "code",
   "execution_count": 55,
   "id": "9914711a",
   "metadata": {},
   "outputs": [
    {
     "name": "stdout",
     "output_type": "stream",
     "text": [
      "the number of duplicated values:  31\n"
     ]
    }
   ],
   "source": [
    "dataset.duplicated().sum()\n",
    "print(\"the number of duplicated values: \",dataset.duplicated().sum())"
   ]
  },
  {
   "cell_type": "code",
   "execution_count": 56,
   "id": "48979d03",
   "metadata": {},
   "outputs": [],
   "source": [
    "dataset = dataset.drop_duplicates()"
   ]
  },
  {
   "cell_type": "code",
   "execution_count": 57,
   "id": "0284b47a",
   "metadata": {},
   "outputs": [
    {
     "name": "stdout",
     "output_type": "stream",
     "text": [
      "the number of row after removing  duplicated values  :  10283\n",
      "the number of column :  2\n"
     ]
    }
   ],
   "source": [
    "# THE SHAPE AFTER REMOVING DUPLICATE VALUES\n",
    "dataset.shape\n",
    "print(\"the number of row after removing  duplicated values  : \",dataset.shape[0])\n",
    "print(\"the number of column : \",dataset.shape[1])"
   ]
  },
  {
   "cell_type": "code",
   "execution_count": 58,
   "id": "f93d28d4",
   "metadata": {},
   "outputs": [
    {
     "data": {
      "text/plain": [
       "array([0, 1], dtype=int64)"
      ]
     },
     "execution_count": 58,
     "metadata": {},
     "output_type": "execute_result"
    }
   ],
   "source": [
    "dataset[\"Category\"].unique()"
   ]
  },
  {
   "cell_type": "code",
   "execution_count": 59,
   "id": "d9bba958",
   "metadata": {},
   "outputs": [
    {
     "name": "stderr",
     "output_type": "stream",
     "text": [
      "C:\\Users\\user\\AppData\\Local\\Temp\\ipykernel_18876\\877619481.py:1: SettingWithCopyWarning: \n",
      "A value is trying to be set on a copy of a slice from a DataFrame.\n",
      "Try using .loc[row_indexer,col_indexer] = value instead\n",
      "\n",
      "See the caveats in the documentation: https://pandas.pydata.org/pandas-docs/stable/user_guide/indexing.html#returning-a-view-versus-a-copy\n",
      "  dataset['Category'] = dataset['Category'].replace(0,'Not Depressed')\n",
      "C:\\Users\\user\\AppData\\Local\\Temp\\ipykernel_18876\\877619481.py:2: SettingWithCopyWarning: \n",
      "A value is trying to be set on a copy of a slice from a DataFrame.\n",
      "Try using .loc[row_indexer,col_indexer] = value instead\n",
      "\n",
      "See the caveats in the documentation: https://pandas.pydata.org/pandas-docs/stable/user_guide/indexing.html#returning-a-view-versus-a-copy\n",
      "  dataset['Category'] = dataset['Category'].replace(1,'Depressed')\n"
     ]
    }
   ],
   "source": [
    "dataset['Category'] = dataset['Category'].replace(0,'Not Depressed')\n",
    "dataset['Category'] = dataset['Category'].replace(1,'Depressed')"
   ]
  },
  {
   "cell_type": "code",
   "execution_count": 60,
   "id": "89ebc6f6",
   "metadata": {},
   "outputs": [
    {
     "data": {
      "text/html": [
       "<div>\n",
       "<style scoped>\n",
       "    .dataframe tbody tr th:only-of-type {\n",
       "        vertical-align: middle;\n",
       "    }\n",
       "\n",
       "    .dataframe tbody tr th {\n",
       "        vertical-align: top;\n",
       "    }\n",
       "\n",
       "    .dataframe thead th {\n",
       "        text-align: right;\n",
       "    }\n",
       "</style>\n",
       "<table border=\"1\" class=\"dataframe\">\n",
       "  <thead>\n",
       "    <tr style=\"text-align: right;\">\n",
       "      <th></th>\n",
       "      <th>text</th>\n",
       "      <th>Category</th>\n",
       "    </tr>\n",
       "  </thead>\n",
       "  <tbody>\n",
       "    <tr>\n",
       "      <th>0</th>\n",
       "      <td>just had a real good moment. i missssssssss hi...</td>\n",
       "      <td>Not Depressed</td>\n",
       "    </tr>\n",
       "    <tr>\n",
       "      <th>1</th>\n",
       "      <td>is reading manga  http://plurk.com/p/mzp1e</td>\n",
       "      <td>Not Depressed</td>\n",
       "    </tr>\n",
       "    <tr>\n",
       "      <th>2</th>\n",
       "      <td>@comeagainjen http://twitpic.com/2y2lx - http:...</td>\n",
       "      <td>Not Depressed</td>\n",
       "    </tr>\n",
       "    <tr>\n",
       "      <th>3</th>\n",
       "      <td>@lapcat Need to send 'em to my accountant tomo...</td>\n",
       "      <td>Not Depressed</td>\n",
       "    </tr>\n",
       "    <tr>\n",
       "      <th>4</th>\n",
       "      <td>ADD ME ON MYSPACE!!!  myspace.com/LookThunder</td>\n",
       "      <td>Not Depressed</td>\n",
       "    </tr>\n",
       "    <tr>\n",
       "      <th>...</th>\n",
       "      <td>...</td>\n",
       "      <td>...</td>\n",
       "    </tr>\n",
       "    <tr>\n",
       "      <th>10309</th>\n",
       "      <td>No Depression by G Herbo is my mood from now o...</td>\n",
       "      <td>Depressed</td>\n",
       "    </tr>\n",
       "    <tr>\n",
       "      <th>10310</th>\n",
       "      <td>What do you do when depression succumbs the br...</td>\n",
       "      <td>Depressed</td>\n",
       "    </tr>\n",
       "    <tr>\n",
       "      <th>10311</th>\n",
       "      <td>Ketamine Nasal Spray Shows Promise Against Dep...</td>\n",
       "      <td>Depressed</td>\n",
       "    </tr>\n",
       "    <tr>\n",
       "      <th>10312</th>\n",
       "      <td>dont mistake a bad day with depression! everyo...</td>\n",
       "      <td>Depressed</td>\n",
       "    </tr>\n",
       "    <tr>\n",
       "      <th>10313</th>\n",
       "      <td>0</td>\n",
       "      <td>Depressed</td>\n",
       "    </tr>\n",
       "  </tbody>\n",
       "</table>\n",
       "<p>10283 rows × 2 columns</p>\n",
       "</div>"
      ],
      "text/plain": [
       "                                                    text       Category\n",
       "0      just had a real good moment. i missssssssss hi...  Not Depressed\n",
       "1             is reading manga  http://plurk.com/p/mzp1e  Not Depressed\n",
       "2      @comeagainjen http://twitpic.com/2y2lx - http:...  Not Depressed\n",
       "3      @lapcat Need to send 'em to my accountant tomo...  Not Depressed\n",
       "4          ADD ME ON MYSPACE!!!  myspace.com/LookThunder  Not Depressed\n",
       "...                                                  ...            ...\n",
       "10309  No Depression by G Herbo is my mood from now o...      Depressed\n",
       "10310  What do you do when depression succumbs the br...      Depressed\n",
       "10311  Ketamine Nasal Spray Shows Promise Against Dep...      Depressed\n",
       "10312  dont mistake a bad day with depression! everyo...      Depressed\n",
       "10313                                                  0      Depressed\n",
       "\n",
       "[10283 rows x 2 columns]"
      ]
     },
     "execution_count": 60,
     "metadata": {},
     "output_type": "execute_result"
    }
   ],
   "source": [
    "dataset"
   ]
  },
  {
   "cell_type": "code",
   "execution_count": 61,
   "id": "954353c2",
   "metadata": {},
   "outputs": [
    {
     "data": {
      "text/plain": [
       "Category\n",
       "Not Depressed    7996\n",
       "Depressed        2287\n",
       "Name: count, dtype: int64"
      ]
     },
     "execution_count": 61,
     "metadata": {},
     "output_type": "execute_result"
    }
   ],
   "source": [
    "dataset[\"Category\"].value_counts()"
   ]
  },
  {
   "cell_type": "code",
   "execution_count": 64,
   "id": "6faa4aeb",
   "metadata": {},
   "outputs": [
    {
     "data": {
      "text/plain": [
       "Text(0.5, 1.0, 'COUNTS OF CATEGORIES OF BEING DEPRESSED OR NOT')"
      ]
     },
     "execution_count": 64,
     "metadata": {},
     "output_type": "execute_result"
    },
    {
     "data": {
      "image/png": "[encoded data removed]",
      "text/plain": [
       "<Figure size 1000x700 with 1 Axes>"
      ]
     },
     "metadata": {},
     "output_type": "display_data"
    }
   ],
   "source": [
    "fig = plt.figure(figsize =(10, 7))\n",
    "plt.barh(dataset[\"Category\"].unique(), dataset[\"Category\"].value_counts(), \n",
    "         color =['', 'pink'])\n",
    "plt.title(\"COUNTS OF CATEGORIES OF BEING DEPRESSED OR NOT\")"
   ]
  },
  {
   "cell_type": "code",
   "execution_count": 65,
   "id": "a11410ad",
   "metadata": {},
   "outputs": [],
   "source": [
    "from nltk.classify import NaiveBayesClassifier\n",
    "from nltk.tokenize import word_tokenize\n",
    "from collections import Counter\n"
   ]
  },
  {
   "cell_type": "markdown",
   "id": "8beb87b6",
   "metadata": {},
   "source": [
    "# Process the text \n"
   ]
  },
  {
   "cell_type": "code",
   "execution_count": 67,
   "id": "5dacded4",
   "metadata": {},
   "outputs": [
    {
     "data": {
      "text/plain": [
       "0        just had a real good moment. i missssssssss hi...\n",
       "1               is reading manga  http://plurk.com/p/mzp1e\n",
       "2        @comeagainjen http://twitpic.com/2y2lx - http:...\n",
       "3        @lapcat Need to send 'em to my accountant tomo...\n",
       "4            ADD ME ON MYSPACE!!!  myspace.com/LookThunder\n",
       "                               ...                        \n",
       "10309    No Depression by G Herbo is my mood from now o...\n",
       "10310    What do you do when depression succumbs the br...\n",
       "10311    Ketamine Nasal Spray Shows Promise Against Dep...\n",
       "10312    dont mistake a bad day with depression! everyo...\n",
       "10313                                                    0\n",
       "Name: text, Length: 10283, dtype: object"
      ]
     },
     "execution_count": 67,
     "metadata": {},
     "output_type": "execute_result"
    }
   ],
   "source": [
    "dataset['text']"
   ]
  },
  {
   "cell_type": "code",
   "execution_count": 69,
   "id": "5314b971",
   "metadata": {},
   "outputs": [
    {
     "name": "stderr",
     "output_type": "stream",
     "text": [
      "C:\\Users\\user\\AppData\\Local\\Temp\\ipykernel_18876\\1464634951.py:1: SettingWithCopyWarning: \n",
      "A value is trying to be set on a copy of a slice from a DataFrame.\n",
      "Try using .loc[row_indexer,col_indexer] = value instead\n",
      "\n",
      "See the caveats in the documentation: https://pandas.pydata.org/pandas-docs/stable/user_guide/indexing.html#returning-a-view-versus-a-copy\n",
      "  dataset['text_cleaned']=dataset['text'].str.lower()\n"
     ]
    },
    {
     "data": {
      "text/html": [
       "<div>\n",
       "<style scoped>\n",
       "    .dataframe tbody tr th:only-of-type {\n",
       "        vertical-align: middle;\n",
       "    }\n",
       "\n",
       "    .dataframe tbody tr th {\n",
       "        vertical-align: top;\n",
       "    }\n",
       "\n",
       "    .dataframe thead th {\n",
       "        text-align: right;\n",
       "    }\n",
       "</style>\n",
       "<table border=\"1\" class=\"dataframe\">\n",
       "  <thead>\n",
       "    <tr style=\"text-align: right;\">\n",
       "      <th></th>\n",
       "      <th>text</th>\n",
       "      <th>Category</th>\n",
       "      <th>text_cleaned</th>\n",
       "    </tr>\n",
       "  </thead>\n",
       "  <tbody>\n",
       "    <tr>\n",
       "      <th>0</th>\n",
       "      <td>just had a real good moment. i missssssssss hi...</td>\n",
       "      <td>Not Depressed</td>\n",
       "      <td>just had a real good moment. i missssssssss hi...</td>\n",
       "    </tr>\n",
       "    <tr>\n",
       "      <th>1</th>\n",
       "      <td>is reading manga  http://plurk.com/p/mzp1e</td>\n",
       "      <td>Not Depressed</td>\n",
       "      <td>is reading manga  http://plurk.com/p/mzp1e</td>\n",
       "    </tr>\n",
       "    <tr>\n",
       "      <th>2</th>\n",
       "      <td>@comeagainjen http://twitpic.com/2y2lx - http:...</td>\n",
       "      <td>Not Depressed</td>\n",
       "      <td>@comeagainjen http://twitpic.com/2y2lx - http:...</td>\n",
       "    </tr>\n",
       "    <tr>\n",
       "      <th>3</th>\n",
       "      <td>@lapcat Need to send 'em to my accountant tomo...</td>\n",
       "      <td>Not Depressed</td>\n",
       "      <td>@lapcat need to send 'em to my accountant tomo...</td>\n",
       "    </tr>\n",
       "    <tr>\n",
       "      <th>4</th>\n",
       "      <td>ADD ME ON MYSPACE!!!  myspace.com/LookThunder</td>\n",
       "      <td>Not Depressed</td>\n",
       "      <td>add me on myspace!!!  myspace.com/lookthunder</td>\n",
       "    </tr>\n",
       "  </tbody>\n",
       "</table>\n",
       "</div>"
      ],
      "text/plain": [
       "                                                text       Category  \\\n",
       "0  just had a real good moment. i missssssssss hi...  Not Depressed   \n",
       "1         is reading manga  http://plurk.com/p/mzp1e  Not Depressed   \n",
       "2  @comeagainjen http://twitpic.com/2y2lx - http:...  Not Depressed   \n",
       "3  @lapcat Need to send 'em to my accountant tomo...  Not Depressed   \n",
       "4      ADD ME ON MYSPACE!!!  myspace.com/LookThunder  Not Depressed   \n",
       "\n",
       "                                        text_cleaned  \n",
       "0  just had a real good moment. i missssssssss hi...  \n",
       "1         is reading manga  http://plurk.com/p/mzp1e  \n",
       "2  @comeagainjen http://twitpic.com/2y2lx - http:...  \n",
       "3  @lapcat need to send 'em to my accountant tomo...  \n",
       "4      add me on myspace!!!  myspace.com/lookthunder  "
      ]
     },
     "execution_count": 69,
     "metadata": {},
     "output_type": "execute_result"
    }
   ],
   "source": [
    "dataset['text_cleaned']=dataset[' '].str.lower()\n",
    "dataset.head()"
   ]
  },
  {
   "cell_type": "markdown",
   "id": "409643b0",
   "metadata": {},
   "source": [
    "1-romoving stop words"
   ]
  },
  {
   "cell_type": "code",
   "execution_count": 70,
   "id": "957a4a78",
   "metadata": {},
   "outputs": [
    {
     "name": "stderr",
     "output_type": "stream",
     "text": [
      "[nltk_data] Downloading package stopwords to\n",
      "[nltk_data]     C:\\Users\\user\\AppData\\Roaming\\nltk_data...\n",
      "[nltk_data]   Package stopwords is already up-to-date!\n",
      "C:\\Users\\user\\AppData\\Local\\Temp\\ipykernel_18876\\2822569565.py:11: SettingWithCopyWarning: \n",
      "A value is trying to be set on a copy of a slice from a DataFrame.\n",
      "Try using .loc[row_indexer,col_indexer] = value instead\n",
      "\n",
      "See the caveats in the documentation: https://pandas.pydata.org/pandas-docs/stable/user_guide/indexing.html#returning-a-view-versus-a-copy\n",
      "  dataset['text_cleaned'] = dataset['text_cleaned'].apply(remove_stopwords)\n"
     ]
    },
    {
     "data": {
      "text/html": [
       "<div>\n",
       "<style scoped>\n",
       "    .dataframe tbody tr th:only-of-type {\n",
       "        vertical-align: middle;\n",
       "    }\n",
       "\n",
       "    .dataframe tbody tr th {\n",
       "        vertical-align: top;\n",
       "    }\n",
       "\n",
       "    .dataframe thead th {\n",
       "        text-align: right;\n",
       "    }\n",
       "</style>\n",
       "<table border=\"1\" class=\"dataframe\">\n",
       "  <thead>\n",
       "    <tr style=\"text-align: right;\">\n",
       "      <th></th>\n",
       "      <th>text</th>\n",
       "      <th>Category</th>\n",
       "      <th>text_cleaned</th>\n",
       "    </tr>\n",
       "  </thead>\n",
       "  <tbody>\n",
       "    <tr>\n",
       "      <th>0</th>\n",
       "      <td>just had a real good moment. i missssssssss hi...</td>\n",
       "      <td>Not Depressed</td>\n",
       "      <td>real good moment. missssssssss much,</td>\n",
       "    </tr>\n",
       "    <tr>\n",
       "      <th>1</th>\n",
       "      <td>is reading manga  http://plurk.com/p/mzp1e</td>\n",
       "      <td>Not Depressed</td>\n",
       "      <td>reading manga http://plurk.com/p/mzp1e</td>\n",
       "    </tr>\n",
       "    <tr>\n",
       "      <th>2</th>\n",
       "      <td>@comeagainjen http://twitpic.com/2y2lx - http:...</td>\n",
       "      <td>Not Depressed</td>\n",
       "      <td>@comeagainjen http://twitpic.com/2y2lx - http:...</td>\n",
       "    </tr>\n",
       "    <tr>\n",
       "      <th>3</th>\n",
       "      <td>@lapcat Need to send 'em to my accountant tomo...</td>\n",
       "      <td>Not Depressed</td>\n",
       "      <td>@lapcat need send 'em accountant tomorrow. odd...</td>\n",
       "    </tr>\n",
       "    <tr>\n",
       "      <th>4</th>\n",
       "      <td>ADD ME ON MYSPACE!!!  myspace.com/LookThunder</td>\n",
       "      <td>Not Depressed</td>\n",
       "      <td>add myspace!!! myspace.com/lookthunder</td>\n",
       "    </tr>\n",
       "  </tbody>\n",
       "</table>\n",
       "</div>"
      ],
      "text/plain": [
       "                                                text       Category  \\\n",
       "0  just had a real good moment. i missssssssss hi...  Not Depressed   \n",
       "1         is reading manga  http://plurk.com/p/mzp1e  Not Depressed   \n",
       "2  @comeagainjen http://twitpic.com/2y2lx - http:...  Not Depressed   \n",
       "3  @lapcat Need to send 'em to my accountant tomo...  Not Depressed   \n",
       "4      ADD ME ON MYSPACE!!!  myspace.com/LookThunder  Not Depressed   \n",
       "\n",
       "                                        text_cleaned  \n",
       "0               real good moment. missssssssss much,  \n",
       "1             reading manga http://plurk.com/p/mzp1e  \n",
       "2  @comeagainjen http://twitpic.com/2y2lx - http:...  \n",
       "3  @lapcat need send 'em accountant tomorrow. odd...  \n",
       "4             add myspace!!! myspace.com/lookthunder  "
      ]
     },
     "execution_count": 70,
     "metadata": {},
     "output_type": "execute_result"
    }
   ],
   "source": [
    "import nltk\n",
    "nltk.download('stopwords')\n",
    "\n",
    "from nltk.corpus import stopwords\n",
    "stop_words = set(stopwords.words('english'))\n",
    "\n",
    "def remove_stopwords(text):\n",
    "    words = [word.lower() for word in text.split() if word.lower() not in stop_words]\n",
    "    return \" \".join(words)\n",
    "\n",
    "dataset['text_cleaned'] = dataset['text_cleaned'].apply(remove_stopwords)\n",
    "dataset.head()"
   ]
  },
  {
   "cell_type": "markdown",
   "id": "16022f71",
   "metadata": {},
   "source": [
    "2-Cleaning URLs"
   ]
  },
  {
   "cell_type": "code",
   "execution_count": 71,
   "id": "6c45982c",
   "metadata": {},
   "outputs": [
    {
     "name": "stderr",
     "output_type": "stream",
     "text": [
      "C:\\Users\\user\\AppData\\Local\\Temp\\ipykernel_18876\\2711195390.py:4: SettingWithCopyWarning: \n",
      "A value is trying to be set on a copy of a slice from a DataFrame.\n",
      "Try using .loc[row_indexer,col_indexer] = value instead\n",
      "\n",
      "See the caveats in the documentation: https://pandas.pydata.org/pandas-docs/stable/user_guide/indexing.html#returning-a-view-versus-a-copy\n",
      "  dataset['text_cleaned'] = dataset['text_cleaned'].apply(lambda x: clean_url(x))\n"
     ]
    },
    {
     "data": {
      "text/html": [
       "<div>\n",
       "<style scoped>\n",
       "    .dataframe tbody tr th:only-of-type {\n",
       "        vertical-align: middle;\n",
       "    }\n",
       "\n",
       "    .dataframe tbody tr th {\n",
       "        vertical-align: top;\n",
       "    }\n",
       "\n",
       "    .dataframe thead th {\n",
       "        text-align: right;\n",
       "    }\n",
       "</style>\n",
       "<table border=\"1\" class=\"dataframe\">\n",
       "  <thead>\n",
       "    <tr style=\"text-align: right;\">\n",
       "      <th></th>\n",
       "      <th>text</th>\n",
       "      <th>Category</th>\n",
       "      <th>text_cleaned</th>\n",
       "    </tr>\n",
       "  </thead>\n",
       "  <tbody>\n",
       "    <tr>\n",
       "      <th>0</th>\n",
       "      <td>just had a real good moment. i missssssssss hi...</td>\n",
       "      <td>Not Depressed</td>\n",
       "      <td>real good moment. missssssssss much,</td>\n",
       "    </tr>\n",
       "    <tr>\n",
       "      <th>1</th>\n",
       "      <td>is reading manga  http://plurk.com/p/mzp1e</td>\n",
       "      <td>Not Depressed</td>\n",
       "      <td>reading manga</td>\n",
       "    </tr>\n",
       "    <tr>\n",
       "      <th>2</th>\n",
       "      <td>@comeagainjen http://twitpic.com/2y2lx - http:...</td>\n",
       "      <td>Not Depressed</td>\n",
       "      <td>@comeagainjen   -</td>\n",
       "    </tr>\n",
       "    <tr>\n",
       "      <th>3</th>\n",
       "      <td>@lapcat Need to send 'em to my accountant tomo...</td>\n",
       "      <td>Not Depressed</td>\n",
       "      <td>@lapcat need send 'em accountant tomorrow. odd...</td>\n",
       "    </tr>\n",
       "    <tr>\n",
       "      <th>4</th>\n",
       "      <td>ADD ME ON MYSPACE!!!  myspace.com/LookThunder</td>\n",
       "      <td>Not Depressed</td>\n",
       "      <td>add myspace!!!</td>\n",
       "    </tr>\n",
       "  </tbody>\n",
       "</table>\n",
       "</div>"
      ],
      "text/plain": [
       "                                                text       Category  \\\n",
       "0  just had a real good moment. i missssssssss hi...  Not Depressed   \n",
       "1         is reading manga  http://plurk.com/p/mzp1e  Not Depressed   \n",
       "2  @comeagainjen http://twitpic.com/2y2lx - http:...  Not Depressed   \n",
       "3  @lapcat Need to send 'em to my accountant tomo...  Not Depressed   \n",
       "4      ADD ME ON MYSPACE!!!  myspace.com/LookThunder  Not Depressed   \n",
       "\n",
       "                                        text_cleaned  \n",
       "0               real good moment. missssssssss much,  \n",
       "1                                    reading manga    \n",
       "2                                @comeagainjen   -    \n",
       "3  @lapcat need send 'em accountant tomorrow. odd...  \n",
       "4                                   add myspace!!!    "
      ]
     },
     "execution_count": 71,
     "metadata": {},
     "output_type": "execute_result"
    }
   ],
   "source": [
    "def clean_url(data):\n",
    "    data=re.sub(r\"((https:|http|ftp)?(:\\/\\/)?(www\\.)?)?[-a-zA-Z0-9@:%._\\+~#=]{1,256}\\.[a-zA-Z0-9()]{1,6}\\b([-a-zA-Z0-9()@:%_\\+.~#?&\\/\\/=]*)\",' ',data)\n",
    "    return re.sub(r'/', ' / ', data)\n",
    "dataset['text_cleaned'] = dataset['text_cleaned'].apply(lambda x: clean_url(x))\n",
    "dataset.head()"
   ]
  },
  {
   "cell_type": "markdown",
   "id": "f5a16c65",
   "metadata": {},
   "source": [
    "3 - Cleaning Punctuations"
   ]
  },
  {
   "cell_type": "code",
   "execution_count": 73,
   "id": "270431a1",
   "metadata": {},
   "outputs": [
    {
     "name": "stderr",
     "output_type": "stream",
     "text": [
      "C:\\Users\\user\\AppData\\Local\\Temp\\ipykernel_18876\\3175863017.py:4: SettingWithCopyWarning: \n",
      "A value is trying to be set on a copy of a slice from a DataFrame.\n",
      "Try using .loc[row_indexer,col_indexer] = value instead\n",
      "\n",
      "See the caveats in the documentation: https://pandas.pydata.org/pandas-docs/stable/user_guide/indexing.html#returning-a-view-versus-a-copy\n",
      "  dataset['text_cleaned'] = dataset['text_cleaned'].apply(lambda x: clean_punctuations(x))\n"
     ]
    },
    {
     "data": {
      "text/html": [
       "<div>\n",
       "<style scoped>\n",
       "    .dataframe tbody tr th:only-of-type {\n",
       "        vertical-align: middle;\n",
       "    }\n",
       "\n",
       "    .dataframe tbody tr th {\n",
       "        vertical-align: top;\n",
       "    }\n",
       "\n",
       "    .dataframe thead th {\n",
       "        text-align: right;\n",
       "    }\n",
       "</style>\n",
       "<table border=\"1\" class=\"dataframe\">\n",
       "  <thead>\n",
       "    <tr style=\"text-align: right;\">\n",
       "      <th></th>\n",
       "      <th>text</th>\n",
       "      <th>Category</th>\n",
       "      <th>text_cleaned</th>\n",
       "    </tr>\n",
       "  </thead>\n",
       "  <tbody>\n",
       "    <tr>\n",
       "      <th>0</th>\n",
       "      <td>just had a real good moment. i missssssssss hi...</td>\n",
       "      <td>Not Depressed</td>\n",
       "      <td>real good moment missssssssss much</td>\n",
       "    </tr>\n",
       "    <tr>\n",
       "      <th>1</th>\n",
       "      <td>is reading manga  http://plurk.com/p/mzp1e</td>\n",
       "      <td>Not Depressed</td>\n",
       "      <td>reading manga</td>\n",
       "    </tr>\n",
       "    <tr>\n",
       "      <th>2</th>\n",
       "      <td>@comeagainjen http://twitpic.com/2y2lx - http:...</td>\n",
       "      <td>Not Depressed</td>\n",
       "      <td>comeagainjen</td>\n",
       "    </tr>\n",
       "    <tr>\n",
       "      <th>3</th>\n",
       "      <td>@lapcat Need to send 'em to my accountant tomo...</td>\n",
       "      <td>Not Depressed</td>\n",
       "      <td>lapcat need send em accountant tomorrow oddly ...</td>\n",
       "    </tr>\n",
       "    <tr>\n",
       "      <th>4</th>\n",
       "      <td>ADD ME ON MYSPACE!!!  myspace.com/LookThunder</td>\n",
       "      <td>Not Depressed</td>\n",
       "      <td>add myspace</td>\n",
       "    </tr>\n",
       "  </tbody>\n",
       "</table>\n",
       "</div>"
      ],
      "text/plain": [
       "                                                text       Category  \\\n",
       "0  just had a real good moment. i missssssssss hi...  Not Depressed   \n",
       "1         is reading manga  http://plurk.com/p/mzp1e  Not Depressed   \n",
       "2  @comeagainjen http://twitpic.com/2y2lx - http:...  Not Depressed   \n",
       "3  @lapcat Need to send 'em to my accountant tomo...  Not Depressed   \n",
       "4      ADD ME ON MYSPACE!!!  myspace.com/LookThunder  Not Depressed   \n",
       "\n",
       "                                        text_cleaned  \n",
       "0                 real good moment missssssssss much  \n",
       "1                                    reading manga    \n",
       "2                                  comeagainjen       \n",
       "3  lapcat need send em accountant tomorrow oddly ...  \n",
       "4                                      add myspace    "
      ]
     },
     "execution_count": 73,
     "metadata": {},
     "output_type": "execute_result"
    }
   ],
   "source": [
    "import string\n",
    "def clean_punctuations(text):\n",
    "    return text.translate(str.maketrans('', '', string.punctuation))\n",
    "dataset['text_cleaned'] = dataset['text_cleaned'].apply(lambda x: clean_punctuations(x))\n",
    "dataset.head()"
   ]
  },
  {
   "cell_type": "markdown",
   "id": "4a29fd37",
   "metadata": {},
   "source": [
    "4 - repeating_char"
   ]
  },
  {
   "cell_type": "code",
   "execution_count": 75,
   "id": "6c66d687",
   "metadata": {},
   "outputs": [
    {
     "name": "stderr",
     "output_type": "stream",
     "text": [
      "C:\\Users\\user\\AppData\\Local\\Temp\\ipykernel_18876\\3848673915.py:3: SettingWithCopyWarning: \n",
      "A value is trying to be set on a copy of a slice from a DataFrame.\n",
      "Try using .loc[row_indexer,col_indexer] = value instead\n",
      "\n",
      "See the caveats in the documentation: https://pandas.pydata.org/pandas-docs/stable/user_guide/indexing.html#returning-a-view-versus-a-copy\n",
      "  dataset['text_cleaned'] = dataset['text_cleaned'].apply(lambda x: clean_repeating_char(x))\n"
     ]
    },
    {
     "data": {
      "text/html": [
       "<div>\n",
       "<style scoped>\n",
       "    .dataframe tbody tr th:only-of-type {\n",
       "        vertical-align: middle;\n",
       "    }\n",
       "\n",
       "    .dataframe tbody tr th {\n",
       "        vertical-align: top;\n",
       "    }\n",
       "\n",
       "    .dataframe thead th {\n",
       "        text-align: right;\n",
       "    }\n",
       "</style>\n",
       "<table border=\"1\" class=\"dataframe\">\n",
       "  <thead>\n",
       "    <tr style=\"text-align: right;\">\n",
       "      <th></th>\n",
       "      <th>text</th>\n",
       "      <th>Category</th>\n",
       "      <th>text_cleaned</th>\n",
       "    </tr>\n",
       "  </thead>\n",
       "  <tbody>\n",
       "    <tr>\n",
       "      <th>0</th>\n",
       "      <td>just had a real good moment. i missssssssss hi...</td>\n",
       "      <td>Not Depressed</td>\n",
       "      <td>real good moment miss much</td>\n",
       "    </tr>\n",
       "    <tr>\n",
       "      <th>1</th>\n",
       "      <td>is reading manga  http://plurk.com/p/mzp1e</td>\n",
       "      <td>Not Depressed</td>\n",
       "      <td>reading manga</td>\n",
       "    </tr>\n",
       "    <tr>\n",
       "      <th>2</th>\n",
       "      <td>@comeagainjen http://twitpic.com/2y2lx - http:...</td>\n",
       "      <td>Not Depressed</td>\n",
       "      <td>comeagainjen</td>\n",
       "    </tr>\n",
       "    <tr>\n",
       "      <th>3</th>\n",
       "      <td>@lapcat Need to send 'em to my accountant tomo...</td>\n",
       "      <td>Not Depressed</td>\n",
       "      <td>lapcat need send em accountant tomorrow oddly ...</td>\n",
       "    </tr>\n",
       "    <tr>\n",
       "      <th>4</th>\n",
       "      <td>ADD ME ON MYSPACE!!!  myspace.com/LookThunder</td>\n",
       "      <td>Not Depressed</td>\n",
       "      <td>add myspace</td>\n",
       "    </tr>\n",
       "  </tbody>\n",
       "</table>\n",
       "</div>"
      ],
      "text/plain": [
       "                                                text       Category  \\\n",
       "0  just had a real good moment. i missssssssss hi...  Not Depressed   \n",
       "1         is reading manga  http://plurk.com/p/mzp1e  Not Depressed   \n",
       "2  @comeagainjen http://twitpic.com/2y2lx - http:...  Not Depressed   \n",
       "3  @lapcat Need to send 'em to my accountant tomo...  Not Depressed   \n",
       "4      ADD ME ON MYSPACE!!!  myspace.com/LookThunder  Not Depressed   \n",
       "\n",
       "                                        text_cleaned  \n",
       "0                         real good moment miss much  \n",
       "1                                    reading manga    \n",
       "2                                     comeagainjen    \n",
       "3  lapcat need send em accountant tomorrow oddly ...  \n",
       "4                                      add myspace    "
      ]
     },
     "execution_count": 75,
     "metadata": {},
     "output_type": "execute_result"
    }
   ],
   "source": [
    "def clean_repeating_char(text):\n",
    "    return re.sub(r\"(.)\\1\\1+\", r\"\\1\\1\", text)\n",
    "dataset['text_cleaned'] = dataset['text_cleaned'].apply(lambda x: clean_repeating_char(x))\n",
    "dataset.head()"
   ]
  },
  {
   "cell_type": "markdown",
   "id": "08fe9bad",
   "metadata": {},
   "source": [
    "5 - Cleaning Numbers"
   ]
  },
  {
   "cell_type": "code",
   "execution_count": 76,
   "id": "b4d4ed6d",
   "metadata": {},
   "outputs": [
    {
     "name": "stderr",
     "output_type": "stream",
     "text": [
      "C:\\Users\\user\\AppData\\Local\\Temp\\ipykernel_18876\\1491911084.py:3: SettingWithCopyWarning: \n",
      "A value is trying to be set on a copy of a slice from a DataFrame.\n",
      "Try using .loc[row_indexer,col_indexer] = value instead\n",
      "\n",
      "See the caveats in the documentation: https://pandas.pydata.org/pandas-docs/stable/user_guide/indexing.html#returning-a-view-versus-a-copy\n",
      "  dataset['text_cleaned'] = dataset['text_cleaned'].apply(lambda x: clean_numbers(x))\n"
     ]
    },
    {
     "data": {
      "text/html": [
       "<div>\n",
       "<style scoped>\n",
       "    .dataframe tbody tr th:only-of-type {\n",
       "        vertical-align: middle;\n",
       "    }\n",
       "\n",
       "    .dataframe tbody tr th {\n",
       "        vertical-align: top;\n",
       "    }\n",
       "\n",
       "    .dataframe thead th {\n",
       "        text-align: right;\n",
       "    }\n",
       "</style>\n",
       "<table border=\"1\" class=\"dataframe\">\n",
       "  <thead>\n",
       "    <tr style=\"text-align: right;\">\n",
       "      <th></th>\n",
       "      <th>text</th>\n",
       "      <th>Category</th>\n",
       "      <th>text_cleaned</th>\n",
       "    </tr>\n",
       "  </thead>\n",
       "  <tbody>\n",
       "    <tr>\n",
       "      <th>0</th>\n",
       "      <td>just had a real good moment. i missssssssss hi...</td>\n",
       "      <td>Not Depressed</td>\n",
       "      <td>real good moment miss much</td>\n",
       "    </tr>\n",
       "    <tr>\n",
       "      <th>1</th>\n",
       "      <td>is reading manga  http://plurk.com/p/mzp1e</td>\n",
       "      <td>Not Depressed</td>\n",
       "      <td>reading manga</td>\n",
       "    </tr>\n",
       "    <tr>\n",
       "      <th>2</th>\n",
       "      <td>@comeagainjen http://twitpic.com/2y2lx - http:...</td>\n",
       "      <td>Not Depressed</td>\n",
       "      <td>comeagainjen</td>\n",
       "    </tr>\n",
       "    <tr>\n",
       "      <th>3</th>\n",
       "      <td>@lapcat Need to send 'em to my accountant tomo...</td>\n",
       "      <td>Not Depressed</td>\n",
       "      <td>lapcat need send em accountant tomorrow oddly ...</td>\n",
       "    </tr>\n",
       "    <tr>\n",
       "      <th>4</th>\n",
       "      <td>ADD ME ON MYSPACE!!!  myspace.com/LookThunder</td>\n",
       "      <td>Not Depressed</td>\n",
       "      <td>add myspace</td>\n",
       "    </tr>\n",
       "  </tbody>\n",
       "</table>\n",
       "</div>"
      ],
      "text/plain": [
       "                                                text       Category  \\\n",
       "0  just had a real good moment. i missssssssss hi...  Not Depressed   \n",
       "1         is reading manga  http://plurk.com/p/mzp1e  Not Depressed   \n",
       "2  @comeagainjen http://twitpic.com/2y2lx - http:...  Not Depressed   \n",
       "3  @lapcat Need to send 'em to my accountant tomo...  Not Depressed   \n",
       "4      ADD ME ON MYSPACE!!!  myspace.com/LookThunder  Not Depressed   \n",
       "\n",
       "                                        text_cleaned  \n",
       "0                         real good moment miss much  \n",
       "1                                    reading manga    \n",
       "2                                     comeagainjen    \n",
       "3  lapcat need send em accountant tomorrow oddly ...  \n",
       "4                                      add myspace    "
      ]
     },
     "execution_count": 76,
     "metadata": {},
     "output_type": "execute_result"
    }
   ],
   "source": [
    "def clean_numbers(data):\n",
    "    return re.sub('[0-9]+', '', data)\n",
    "dataset['text_cleaned'] = dataset['text_cleaned'].apply(lambda x: clean_numbers(x))\n",
    "dataset.head()"
   ]
  },
  {
   "cell_type": "markdown",
   "id": "21a1dbbe",
   "metadata": {},
   "source": [
    "6 - remove hashtag\n"
   ]
  },
  {
   "cell_type": "code",
   "execution_count": 77,
   "id": "99c23525",
   "metadata": {},
   "outputs": [
    {
     "name": "stderr",
     "output_type": "stream",
     "text": [
      "C:\\Users\\user\\AppData\\Local\\Temp\\ipykernel_18876\\3355377785.py:3: SettingWithCopyWarning: \n",
      "A value is trying to be set on a copy of a slice from a DataFrame.\n",
      "Try using .loc[row_indexer,col_indexer] = value instead\n",
      "\n",
      "See the caveats in the documentation: https://pandas.pydata.org/pandas-docs/stable/user_guide/indexing.html#returning-a-view-versus-a-copy\n",
      "  dataset['text_cleaned'] = dataset['text_cleaned'].apply(lambda x: remove_hashtag(x))\n"
     ]
    },
    {
     "data": {
      "text/html": [
       "<div>\n",
       "<style scoped>\n",
       "    .dataframe tbody tr th:only-of-type {\n",
       "        vertical-align: middle;\n",
       "    }\n",
       "\n",
       "    .dataframe tbody tr th {\n",
       "        vertical-align: top;\n",
       "    }\n",
       "\n",
       "    .dataframe thead th {\n",
       "        text-align: right;\n",
       "    }\n",
       "</style>\n",
       "<table border=\"1\" class=\"dataframe\">\n",
       "  <thead>\n",
       "    <tr style=\"text-align: right;\">\n",
       "      <th></th>\n",
       "      <th>text</th>\n",
       "      <th>Category</th>\n",
       "      <th>text_cleaned</th>\n",
       "    </tr>\n",
       "  </thead>\n",
       "  <tbody>\n",
       "    <tr>\n",
       "      <th>0</th>\n",
       "      <td>just had a real good moment. i missssssssss hi...</td>\n",
       "      <td>Not Depressed</td>\n",
       "      <td>real good moment miss much</td>\n",
       "    </tr>\n",
       "    <tr>\n",
       "      <th>1</th>\n",
       "      <td>is reading manga  http://plurk.com/p/mzp1e</td>\n",
       "      <td>Not Depressed</td>\n",
       "      <td>reading manga</td>\n",
       "    </tr>\n",
       "    <tr>\n",
       "      <th>2</th>\n",
       "      <td>@comeagainjen http://twitpic.com/2y2lx - http:...</td>\n",
       "      <td>Not Depressed</td>\n",
       "      <td>comeagainjen</td>\n",
       "    </tr>\n",
       "    <tr>\n",
       "      <th>3</th>\n",
       "      <td>@lapcat Need to send 'em to my accountant tomo...</td>\n",
       "      <td>Not Depressed</td>\n",
       "      <td>lapcat need send em accountant tomorrow oddly ...</td>\n",
       "    </tr>\n",
       "    <tr>\n",
       "      <th>4</th>\n",
       "      <td>ADD ME ON MYSPACE!!!  myspace.com/LookThunder</td>\n",
       "      <td>Not Depressed</td>\n",
       "      <td>add myspace</td>\n",
       "    </tr>\n",
       "  </tbody>\n",
       "</table>\n",
       "</div>"
      ],
      "text/plain": [
       "                                                text       Category  \\\n",
       "0  just had a real good moment. i missssssssss hi...  Not Depressed   \n",
       "1         is reading manga  http://plurk.com/p/mzp1e  Not Depressed   \n",
       "2  @comeagainjen http://twitpic.com/2y2lx - http:...  Not Depressed   \n",
       "3  @lapcat Need to send 'em to my accountant tomo...  Not Depressed   \n",
       "4      ADD ME ON MYSPACE!!!  myspace.com/LookThunder  Not Depressed   \n",
       "\n",
       "                                        text_cleaned  \n",
       "0                         real good moment miss much  \n",
       "1                                    reading manga    \n",
       "2                                     comeagainjen    \n",
       "3  lapcat need send em accountant tomorrow oddly ...  \n",
       "4                                      add myspace    "
      ]
     },
     "execution_count": 77,
     "metadata": {},
     "output_type": "execute_result"
    }
   ],
   "source": [
    "def remove_hashtag(data):\n",
    "    return re.sub('#[\\w\\d]+',' ' ,data)\n",
    "dataset['text_cleaned'] = dataset['text_cleaned'].apply(lambda x: remove_hashtag(x))\n",
    "dataset.head()"
   ]
  },
  {
   "cell_type": "markdown",
   "id": "1d956686",
   "metadata": {},
   "source": [
    "7 - clean username"
   ]
  },
  {
   "cell_type": "code",
   "execution_count": 79,
   "id": "da2b59b1",
   "metadata": {},
   "outputs": [
    {
     "name": "stderr",
     "output_type": "stream",
     "text": [
      "C:\\Users\\user\\AppData\\Local\\Temp\\ipykernel_18876\\51800986.py:3: SettingWithCopyWarning: \n",
      "A value is trying to be set on a copy of a slice from a DataFrame.\n",
      "Try using .loc[row_indexer,col_indexer] = value instead\n",
      "\n",
      "See the caveats in the documentation: https://pandas.pydata.org/pandas-docs/stable/user_guide/indexing.html#returning-a-view-versus-a-copy\n",
      "  dataset['text_cleaned'] = dataset['text_cleaned'].apply(lambda x: clean_username(x))\n"
     ]
    },
    {
     "data": {
      "text/html": [
       "<div>\n",
       "<style scoped>\n",
       "    .dataframe tbody tr th:only-of-type {\n",
       "        vertical-align: middle;\n",
       "    }\n",
       "\n",
       "    .dataframe tbody tr th {\n",
       "        vertical-align: top;\n",
       "    }\n",
       "\n",
       "    .dataframe thead th {\n",
       "        text-align: right;\n",
       "    }\n",
       "</style>\n",
       "<table border=\"1\" class=\"dataframe\">\n",
       "  <thead>\n",
       "    <tr style=\"text-align: right;\">\n",
       "      <th></th>\n",
       "      <th>text</th>\n",
       "      <th>Category</th>\n",
       "      <th>text_cleaned</th>\n",
       "    </tr>\n",
       "  </thead>\n",
       "  <tbody>\n",
       "    <tr>\n",
       "      <th>0</th>\n",
       "      <td>just had a real good moment. i missssssssss hi...</td>\n",
       "      <td>Not Depressed</td>\n",
       "      <td>real good moment miss much</td>\n",
       "    </tr>\n",
       "    <tr>\n",
       "      <th>1</th>\n",
       "      <td>is reading manga  http://plurk.com/p/mzp1e</td>\n",
       "      <td>Not Depressed</td>\n",
       "      <td>reading manga</td>\n",
       "    </tr>\n",
       "    <tr>\n",
       "      <th>2</th>\n",
       "      <td>@comeagainjen http://twitpic.com/2y2lx - http:...</td>\n",
       "      <td>Not Depressed</td>\n",
       "      <td>comeagainjen</td>\n",
       "    </tr>\n",
       "    <tr>\n",
       "      <th>3</th>\n",
       "      <td>@lapcat Need to send 'em to my accountant tomo...</td>\n",
       "      <td>Not Depressed</td>\n",
       "      <td>lapcat need send em accountant tomorrow oddly ...</td>\n",
       "    </tr>\n",
       "    <tr>\n",
       "      <th>4</th>\n",
       "      <td>ADD ME ON MYSPACE!!!  myspace.com/LookThunder</td>\n",
       "      <td>Not Depressed</td>\n",
       "      <td>add myspace</td>\n",
       "    </tr>\n",
       "  </tbody>\n",
       "</table>\n",
       "</div>"
      ],
      "text/plain": [
       "                                                text       Category  \\\n",
       "0  just had a real good moment. i missssssssss hi...  Not Depressed   \n",
       "1         is reading manga  http://plurk.com/p/mzp1e  Not Depressed   \n",
       "2  @comeagainjen http://twitpic.com/2y2lx - http:...  Not Depressed   \n",
       "3  @lapcat Need to send 'em to my accountant tomo...  Not Depressed   \n",
       "4      ADD ME ON MYSPACE!!!  myspace.com/LookThunder  Not Depressed   \n",
       "\n",
       "                                        text_cleaned  \n",
       "0                         real good moment miss much  \n",
       "1                                    reading manga    \n",
       "2                                     comeagainjen    \n",
       "3  lapcat need send em accountant tomorrow oddly ...  \n",
       "4                                      add myspace    "
      ]
     },
     "execution_count": 79,
     "metadata": {},
     "output_type": "execute_result"
    }
   ],
   "source": [
    "def clean_username(data):\n",
    "    return re.sub('@[^\\s]+',' ', data)\n",
    "dataset['text_cleaned'] = dataset['text_cleaned'].apply(lambda x: clean_username(x))\n",
    "dataset.head()"
   ]
  },
  {
   "cell_type": "markdown",
   "id": "f86d5668",
   "metadata": {},
   "source": [
    "8 - clean emoji"
   ]
  },
  {
   "cell_type": "code",
   "execution_count": 80,
   "id": "7d050791",
   "metadata": {},
   "outputs": [
    {
     "name": "stderr",
     "output_type": "stream",
     "text": [
      "C:\\Users\\user\\AppData\\Local\\Temp\\ipykernel_18876\\1546822378.py:8: SettingWithCopyWarning: \n",
      "A value is trying to be set on a copy of a slice from a DataFrame.\n",
      "Try using .loc[row_indexer,col_indexer] = value instead\n",
      "\n",
      "See the caveats in the documentation: https://pandas.pydata.org/pandas-docs/stable/user_guide/indexing.html#returning-a-view-versus-a-copy\n",
      "  dataset['text_cleaned'] = dataset['text_cleaned'].apply(lambda x: clean_emoji(x))\n"
     ]
    },
    {
     "data": {
      "text/html": [
       "<div>\n",
       "<style scoped>\n",
       "    .dataframe tbody tr th:only-of-type {\n",
       "        vertical-align: middle;\n",
       "    }\n",
       "\n",
       "    .dataframe tbody tr th {\n",
       "        vertical-align: top;\n",
       "    }\n",
       "\n",
       "    .dataframe thead th {\n",
       "        text-align: right;\n",
       "    }\n",
       "</style>\n",
       "<table border=\"1\" class=\"dataframe\">\n",
       "  <thead>\n",
       "    <tr style=\"text-align: right;\">\n",
       "      <th></th>\n",
       "      <th>text</th>\n",
       "      <th>Category</th>\n",
       "      <th>text_cleaned</th>\n",
       "    </tr>\n",
       "  </thead>\n",
       "  <tbody>\n",
       "    <tr>\n",
       "      <th>0</th>\n",
       "      <td>just had a real good moment. i missssssssss hi...</td>\n",
       "      <td>Not Depressed</td>\n",
       "      <td>real good moment miss much</td>\n",
       "    </tr>\n",
       "    <tr>\n",
       "      <th>1</th>\n",
       "      <td>is reading manga  http://plurk.com/p/mzp1e</td>\n",
       "      <td>Not Depressed</td>\n",
       "      <td>reading manga</td>\n",
       "    </tr>\n",
       "    <tr>\n",
       "      <th>2</th>\n",
       "      <td>@comeagainjen http://twitpic.com/2y2lx - http:...</td>\n",
       "      <td>Not Depressed</td>\n",
       "      <td>comeagainjen</td>\n",
       "    </tr>\n",
       "    <tr>\n",
       "      <th>3</th>\n",
       "      <td>@lapcat Need to send 'em to my accountant tomo...</td>\n",
       "      <td>Not Depressed</td>\n",
       "      <td>lapcat need send em accountant tomorrow oddly ...</td>\n",
       "    </tr>\n",
       "    <tr>\n",
       "      <th>4</th>\n",
       "      <td>ADD ME ON MYSPACE!!!  myspace.com/LookThunder</td>\n",
       "      <td>Not Depressed</td>\n",
       "      <td>add myspace</td>\n",
       "    </tr>\n",
       "  </tbody>\n",
       "</table>\n",
       "</div>"
      ],
      "text/plain": [
       "                                                text       Category  \\\n",
       "0  just had a real good moment. i missssssssss hi...  Not Depressed   \n",
       "1         is reading manga  http://plurk.com/p/mzp1e  Not Depressed   \n",
       "2  @comeagainjen http://twitpic.com/2y2lx - http:...  Not Depressed   \n",
       "3  @lapcat Need to send 'em to my accountant tomo...  Not Depressed   \n",
       "4      ADD ME ON MYSPACE!!!  myspace.com/LookThunder  Not Depressed   \n",
       "\n",
       "                                        text_cleaned  \n",
       "0                         real good moment miss much  \n",
       "1                                    reading manga    \n",
       "2                                     comeagainjen    \n",
       "3  lapcat need send em accountant tomorrow oddly ...  \n",
       "4                                      add myspace    "
      ]
     },
     "execution_count": 80,
     "metadata": {},
     "output_type": "execute_result"
    }
   ],
   "source": [
    "def clean_emoji(data):    \n",
    "    data = re.sub(r'<3', '<heart>', data)\n",
    "    data = re.sub(r\"[8:=;]['`\\-]?[)d]+\", '<smile>', data)\n",
    "    data = re.sub(r\"[8:=;]['`\\-]?\\(+\", '<sad>', data)\n",
    "    data = re.sub(r\"[8:=;]['`\\-]?[\\/|l*]\", '<neutral>', data)\n",
    "    data = re.sub(r\"[8:=;]['`\\-]?p+\", '<laugh>', data)\n",
    "    return data\n",
    "dataset['text_cleaned'] = dataset['text_cleaned'].apply(lambda x: clean_emoji(x))\n",
    "dataset.head()"
   ]
  },
  {
   "cell_type": "markdown",
   "id": "31c2893f",
   "metadata": {},
   "source": [
    "9 - remove images"
   ]
  },
  {
   "cell_type": "code",
   "execution_count": 81,
   "id": "ca9e8f01",
   "metadata": {
    "scrolled": true
   },
   "outputs": [
    {
     "name": "stderr",
     "output_type": "stream",
     "text": [
      "C:\\Users\\user\\AppData\\Local\\Temp\\ipykernel_18876\\1438001254.py:6: SettingWithCopyWarning: \n",
      "A value is trying to be set on a copy of a slice from a DataFrame.\n",
      "Try using .loc[row_indexer,col_indexer] = value instead\n",
      "\n",
      "See the caveats in the documentation: https://pandas.pydata.org/pandas-docs/stable/user_guide/indexing.html#returning-a-view-versus-a-copy\n",
      "  dataset['text_cleaned'] = dataset['text_cleaned'].apply(remove_images)\n"
     ]
    },
    {
     "data": {
      "text/html": [
       "<div>\n",
       "<style scoped>\n",
       "    .dataframe tbody tr th:only-of-type {\n",
       "        vertical-align: middle;\n",
       "    }\n",
       "\n",
       "    .dataframe tbody tr th {\n",
       "        vertical-align: top;\n",
       "    }\n",
       "\n",
       "    .dataframe thead th {\n",
       "        text-align: right;\n",
       "    }\n",
       "</style>\n",
       "<table border=\"1\" class=\"dataframe\">\n",
       "  <thead>\n",
       "    <tr style=\"text-align: right;\">\n",
       "      <th></th>\n",
       "      <th>text</th>\n",
       "      <th>Category</th>\n",
       "      <th>text_cleaned</th>\n",
       "    </tr>\n",
       "  </thead>\n",
       "  <tbody>\n",
       "    <tr>\n",
       "      <th>0</th>\n",
       "      <td>just had a real good moment. i missssssssss hi...</td>\n",
       "      <td>Not Depressed</td>\n",
       "      <td>real good moment miss much</td>\n",
       "    </tr>\n",
       "    <tr>\n",
       "      <th>1</th>\n",
       "      <td>is reading manga  http://plurk.com/p/mzp1e</td>\n",
       "      <td>Not Depressed</td>\n",
       "      <td>reading manga</td>\n",
       "    </tr>\n",
       "    <tr>\n",
       "      <th>2</th>\n",
       "      <td>@comeagainjen http://twitpic.com/2y2lx - http:...</td>\n",
       "      <td>Not Depressed</td>\n",
       "      <td>comeagainjen</td>\n",
       "    </tr>\n",
       "    <tr>\n",
       "      <th>3</th>\n",
       "      <td>@lapcat Need to send 'em to my accountant tomo...</td>\n",
       "      <td>Not Depressed</td>\n",
       "      <td>lapcat need send em accountant tomorrow oddly ...</td>\n",
       "    </tr>\n",
       "    <tr>\n",
       "      <th>4</th>\n",
       "      <td>ADD ME ON MYSPACE!!!  myspace.com/LookThunder</td>\n",
       "      <td>Not Depressed</td>\n",
       "      <td>add myspace</td>\n",
       "    </tr>\n",
       "    <tr>\n",
       "      <th>5</th>\n",
       "      <td>so sleepy. good times tonight though</td>\n",
       "      <td>Not Depressed</td>\n",
       "      <td>sleepy good times tonight though</td>\n",
       "    </tr>\n",
       "    <tr>\n",
       "      <th>6</th>\n",
       "      <td>@SilkCharm re: #nbn as someone already said, d...</td>\n",
       "      <td>Not Depressed</td>\n",
       "      <td>silkcharm re nbn someone already said fiber ho...</td>\n",
       "    </tr>\n",
       "    <tr>\n",
       "      <th>7</th>\n",
       "      <td>23 or 24ï¿½C possible today. Nice</td>\n",
       "      <td>Not Depressed</td>\n",
       "      <td>ï¿½c possible today nice</td>\n",
       "    </tr>\n",
       "    <tr>\n",
       "      <th>8</th>\n",
       "      <td>nite twitterville  workout in the am  -ciao</td>\n",
       "      <td>Not Depressed</td>\n",
       "      <td>nite twitterville workout ciao</td>\n",
       "    </tr>\n",
       "    <tr>\n",
       "      <th>9</th>\n",
       "      <td>@daNanner Night, darlin'!  Sweet dreams to you</td>\n",
       "      <td>Not Depressed</td>\n",
       "      <td>dananner night darlin sweet dreams</td>\n",
       "    </tr>\n",
       "  </tbody>\n",
       "</table>\n",
       "</div>"
      ],
      "text/plain": [
       "                                                text       Category  \\\n",
       "0  just had a real good moment. i missssssssss hi...  Not Depressed   \n",
       "1         is reading manga  http://plurk.com/p/mzp1e  Not Depressed   \n",
       "2  @comeagainjen http://twitpic.com/2y2lx - http:...  Not Depressed   \n",
       "3  @lapcat Need to send 'em to my accountant tomo...  Not Depressed   \n",
       "4      ADD ME ON MYSPACE!!!  myspace.com/LookThunder  Not Depressed   \n",
       "5              so sleepy. good times tonight though   Not Depressed   \n",
       "6  @SilkCharm re: #nbn as someone already said, d...  Not Depressed   \n",
       "7                 23 or 24ï¿½C possible today. Nice   Not Depressed   \n",
       "8        nite twitterville  workout in the am  -ciao  Not Depressed   \n",
       "9    @daNanner Night, darlin'!  Sweet dreams to you   Not Depressed   \n",
       "\n",
       "                                        text_cleaned  \n",
       "0                         real good moment miss much  \n",
       "1                                    reading manga    \n",
       "2                                     comeagainjen    \n",
       "3  lapcat need send em accountant tomorrow oddly ...  \n",
       "4                                      add myspace    \n",
       "5                   sleepy good times tonight though  \n",
       "6  silkcharm re nbn someone already said fiber ho...  \n",
       "7                           ï¿½c possible today nice  \n",
       "8                     nite twitterville workout ciao  \n",
       "9                 dananner night darlin sweet dreams  "
      ]
     },
     "execution_count": 81,
     "metadata": {},
     "output_type": "execute_result"
    }
   ],
   "source": [
    "def remove_images(tweet):\n",
    "    cleaned_tweet = re.sub(r\"pic\\.twitter\\.com/\\S+\",'', tweet)\n",
    "    cleaned_tweet = re.sub(\"\\w+(\\.png|\\.jpg|\\.gif|\\.jpeg)\", \" \", cleaned_tweet)\n",
    "    return cleaned_tweet\n",
    "\n",
    "dataset['text_cleaned'] = dataset['text_cleaned'].apply(remove_images)\n",
    "dataset.head(10)"
   ]
  },
  {
   "cell_type": "code",
   "execution_count": 85,
   "id": "8c4fc9ae",
   "metadata": {
    "scrolled": true
   },
   "outputs": [
    {
     "data": {
      "text/html": [
       "<div>\n",
       "<style scoped>\n",
       "    .dataframe tbody tr th:only-of-type {\n",
       "        vertical-align: middle;\n",
       "    }\n",
       "\n",
       "    .dataframe tbody tr th {\n",
       "        vertical-align: top;\n",
       "    }\n",
       "\n",
       "    .dataframe thead th {\n",
       "        text-align: right;\n",
       "    }\n",
       "</style>\n",
       "<table border=\"1\" class=\"dataframe\">\n",
       "  <thead>\n",
       "    <tr style=\"text-align: right;\">\n",
       "      <th></th>\n",
       "      <th>text</th>\n",
       "      <th>Category</th>\n",
       "      <th>text_cleaned</th>\n",
       "    </tr>\n",
       "  </thead>\n",
       "  <tbody>\n",
       "    <tr>\n",
       "      <th>3646</th>\n",
       "      <td>@kime13 Thank you so much...  Lovely to catch up!</td>\n",
       "      <td>Not Depressed</td>\n",
       "      <td>kime thank much lovely catch up</td>\n",
       "    </tr>\n",
       "    <tr>\n",
       "      <th>4099</th>\n",
       "      <td>YAY for bonfires!!!!</td>\n",
       "      <td>Not Depressed</td>\n",
       "      <td>yay bonfires</td>\n",
       "    </tr>\n",
       "    <tr>\n",
       "      <th>6580</th>\n",
       "      <td>Thanks everyone for suggestions r.e. http://el...</td>\n",
       "      <td>Not Depressed</td>\n",
       "      <td>thanks everyone suggestions  keep asis time am...</td>\n",
       "    </tr>\n",
       "    <tr>\n",
       "      <th>3043</th>\n",
       "      <td>Just looked Katty Perry's sushi nail. It's fun...</td>\n",
       "      <td>Not Depressed</td>\n",
       "      <td>looked katty perrys sushi nail funny</td>\n",
       "    </tr>\n",
       "    <tr>\n",
       "      <th>6223</th>\n",
       "      <td>@glsmeltr and thank you so much for your hospi...</td>\n",
       "      <td>Not Depressed</td>\n",
       "      <td>glsmeltr thank much hospitality appreciate it</td>\n",
       "    </tr>\n",
       "    <tr>\n",
       "      <th>3873</th>\n",
       "      <td>Hanging out with Whitney, drinking margaritas,...</td>\n",
       "      <td>Not Depressed</td>\n",
       "      <td>hanging whitney drinking margaritas getting re...</td>\n",
       "    </tr>\n",
       "    <tr>\n",
       "      <th>7505</th>\n",
       "      <td>I'm so excited now these next two weeks...</td>\n",
       "      <td>Not Depressed</td>\n",
       "      <td>im excited next two weeks</td>\n",
       "    </tr>\n",
       "    <tr>\n",
       "      <th>4791</th>\n",
       "      <td>@octavianis bear with me, im coming back soon...</td>\n",
       "      <td>Not Depressed</td>\n",
       "      <td>octavianis bear me im coming back soon</td>\n",
       "    </tr>\n",
       "    <tr>\n",
       "      <th>8167</th>\n",
       "      <td>2day was terrible but napped, showered, and no...</td>\n",
       "      <td>Depressed</td>\n",
       "      <td>day terrible napped showered im drinking coffe...</td>\n",
       "    </tr>\n",
       "    <tr>\n",
       "      <th>4688</th>\n",
       "      <td>@coachkiki otherwise, if you watched any of ab...</td>\n",
       "      <td>Not Depressed</td>\n",
       "      <td>coachkiki otherwise watched abcs homeland secu...</td>\n",
       "    </tr>\n",
       "  </tbody>\n",
       "</table>\n",
       "</div>"
      ],
      "text/plain": [
       "                                                   text       Category  \\\n",
       "3646  @kime13 Thank you so much...  Lovely to catch up!  Not Depressed   \n",
       "4099                              YAY for bonfires!!!!   Not Depressed   \n",
       "6580  Thanks everyone for suggestions r.e. http://el...  Not Depressed   \n",
       "3043  Just looked Katty Perry's sushi nail. It's fun...  Not Depressed   \n",
       "6223  @glsmeltr and thank you so much for your hospi...  Not Depressed   \n",
       "3873  Hanging out with Whitney, drinking margaritas,...  Not Depressed   \n",
       "7505        I'm so excited now these next two weeks...   Not Depressed   \n",
       "4791  @octavianis bear with me, im coming back soon...   Not Depressed   \n",
       "8167  2day was terrible but napped, showered, and no...      Depressed   \n",
       "4688  @coachkiki otherwise, if you watched any of ab...  Not Depressed   \n",
       "\n",
       "                                           text_cleaned  \n",
       "3646                    kime thank much lovely catch up  \n",
       "4099                                       yay bonfires  \n",
       "6580  thanks everyone suggestions  keep asis time am...  \n",
       "3043             looked katty perrys sushi nail funny    \n",
       "6223      glsmeltr thank much hospitality appreciate it  \n",
       "3873  hanging whitney drinking margaritas getting re...  \n",
       "7505                          im excited next two weeks  \n",
       "4791             octavianis bear me im coming back soon  \n",
       "8167  day terrible napped showered im drinking coffe...  \n",
       "4688  coachkiki otherwise watched abcs homeland secu...  "
      ]
     },
     "execution_count": 85,
     "metadata": {},
     "output_type": "execute_result"
    }
   ],
   "source": [
    "dataset.sample(10)"
   ]
  },
  {
   "cell_type": "code",
   "execution_count": 87,
   "id": "5a58f22d",
   "metadata": {
    "scrolled": true
   },
   "outputs": [
    {
     "data": {
      "text/html": [
       "<div>\n",
       "<style scoped>\n",
       "    .dataframe tbody tr th:only-of-type {\n",
       "        vertical-align: middle;\n",
       "    }\n",
       "\n",
       "    .dataframe tbody tr th {\n",
       "        vertical-align: top;\n",
       "    }\n",
       "\n",
       "    .dataframe thead th {\n",
       "        text-align: right;\n",
       "    }\n",
       "</style>\n",
       "<table border=\"1\" class=\"dataframe\">\n",
       "  <thead>\n",
       "    <tr style=\"text-align: right;\">\n",
       "      <th></th>\n",
       "      <th>text</th>\n",
       "      <th>Category</th>\n",
       "      <th>text_cleaned</th>\n",
       "    </tr>\n",
       "  </thead>\n",
       "  <tbody>\n",
       "    <tr>\n",
       "      <th>0</th>\n",
       "      <td>just had a real good moment. i missssssssss hi...</td>\n",
       "      <td>Not Depressed</td>\n",
       "      <td>real good moment miss much</td>\n",
       "    </tr>\n",
       "    <tr>\n",
       "      <th>1</th>\n",
       "      <td>is reading manga  http://plurk.com/p/mzp1e</td>\n",
       "      <td>Not Depressed</td>\n",
       "      <td>reading manga</td>\n",
       "    </tr>\n",
       "    <tr>\n",
       "      <th>2</th>\n",
       "      <td>@comeagainjen http://twitpic.com/2y2lx - http:...</td>\n",
       "      <td>Not Depressed</td>\n",
       "      <td>comeagainjen</td>\n",
       "    </tr>\n",
       "    <tr>\n",
       "      <th>3</th>\n",
       "      <td>@lapcat Need to send 'em to my accountant tomo...</td>\n",
       "      <td>Not Depressed</td>\n",
       "      <td>lapcat need send em accountant tomorrow oddly ...</td>\n",
       "    </tr>\n",
       "    <tr>\n",
       "      <th>4</th>\n",
       "      <td>ADD ME ON MYSPACE!!!  myspace.com/LookThunder</td>\n",
       "      <td>Not Depressed</td>\n",
       "      <td>add myspace</td>\n",
       "    </tr>\n",
       "    <tr>\n",
       "      <th>...</th>\n",
       "      <td>...</td>\n",
       "      <td>...</td>\n",
       "      <td>...</td>\n",
       "    </tr>\n",
       "    <tr>\n",
       "      <th>10309</th>\n",
       "      <td>No Depression by G Herbo is my mood from now o...</td>\n",
       "      <td>Depressed</td>\n",
       "      <td>depression g herbo mood on im done stressing p...</td>\n",
       "    </tr>\n",
       "    <tr>\n",
       "      <th>10310</th>\n",
       "      <td>What do you do when depression succumbs the br...</td>\n",
       "      <td>Depressed</td>\n",
       "      <td>depression succumbs brain makes feel like neve...</td>\n",
       "    </tr>\n",
       "    <tr>\n",
       "      <th>10311</th>\n",
       "      <td>Ketamine Nasal Spray Shows Promise Against Dep...</td>\n",
       "      <td>Depressed</td>\n",
       "      <td>ketamine nasal spray shows promise depression ...</td>\n",
       "    </tr>\n",
       "    <tr>\n",
       "      <th>10312</th>\n",
       "      <td>dont mistake a bad day with depression! everyo...</td>\n",
       "      <td>Depressed</td>\n",
       "      <td>dont mistake bad day depression everyone em</td>\n",
       "    </tr>\n",
       "    <tr>\n",
       "      <th>10313</th>\n",
       "      <td>0</td>\n",
       "      <td>Depressed</td>\n",
       "      <td></td>\n",
       "    </tr>\n",
       "  </tbody>\n",
       "</table>\n",
       "<p>10283 rows × 3 columns</p>\n",
       "</div>"
      ],
      "text/plain": [
       "                                                    text       Category  \\\n",
       "0      just had a real good moment. i missssssssss hi...  Not Depressed   \n",
       "1             is reading manga  http://plurk.com/p/mzp1e  Not Depressed   \n",
       "2      @comeagainjen http://twitpic.com/2y2lx - http:...  Not Depressed   \n",
       "3      @lapcat Need to send 'em to my accountant tomo...  Not Depressed   \n",
       "4          ADD ME ON MYSPACE!!!  myspace.com/LookThunder  Not Depressed   \n",
       "...                                                  ...            ...   \n",
       "10309  No Depression by G Herbo is my mood from now o...      Depressed   \n",
       "10310  What do you do when depression succumbs the br...      Depressed   \n",
       "10311  Ketamine Nasal Spray Shows Promise Against Dep...      Depressed   \n",
       "10312  dont mistake a bad day with depression! everyo...      Depressed   \n",
       "10313                                                  0      Depressed   \n",
       "\n",
       "                                            text_cleaned  \n",
       "0                             real good moment miss much  \n",
       "1                                        reading manga    \n",
       "2                                         comeagainjen    \n",
       "3      lapcat need send em accountant tomorrow oddly ...  \n",
       "4                                          add myspace    \n",
       "...                                                  ...  \n",
       "10309  depression g herbo mood on im done stressing p...  \n",
       "10310  depression succumbs brain makes feel like neve...  \n",
       "10311  ketamine nasal spray shows promise depression ...  \n",
       "10312        dont mistake bad day depression everyone em  \n",
       "10313                                                     \n",
       "\n",
       "[10283 rows x 3 columns]"
      ]
     },
     "execution_count": 87,
     "metadata": {},
     "output_type": "execute_result"
    }
   ],
   "source": [
    "dataset"
   ]
  },
  {
   "cell_type": "markdown",
   "id": "c074f7fc",
   "metadata": {},
   "source": [
    "10 - lemmatizer"
   ]
  },
  {
   "cell_type": "code",
   "execution_count": 92,
   "id": "4dacc592",
   "metadata": {},
   "outputs": [],
   "source": [
    "from nltk.stem import WordNetLemmatizer\n",
    "from nltk.tokenize import word_tokenize\n",
    "\n",
    "\n",
    "lemmatizer = WordNetLemmatizer()"
   ]
  },
  {
   "cell_type": "code",
   "execution_count": 101,
   "id": "d4d5ad85",
   "metadata": {
    "scrolled": true
   },
   "outputs": [
    {
     "name": "stderr",
     "output_type": "stream",
     "text": [
      "[nltk_data] Downloading package punkt to\n",
      "[nltk_data]     C:\\Users\\user\\AppData\\Roaming\\nltk_data...\n",
      "[nltk_data]   Package punkt is already up-to-date!\n",
      "[nltk_data] Downloading package wordnet to /root/nltk_data/...\n",
      "[nltk_data]   Package wordnet is already up-to-date!\n",
      "'unzip' is not recognized as an internal or external command,\n",
      "operable program or batch file.\n"
     ]
    }
   ],
   "source": [
    "nltk.download('punkt')\n",
    "nltk.download('wordnet', '/root/nltk_data/')\n",
    "!unzip /root/nltk_data/corpora/wordnet.zip -d /root/nltk_data/corpora/\n",
    "from nltk.stem.wordnet import WordNetLemmatizer\n",
    "from nltk.stem import PorterStemmer"
   ]
  },
  {
   "cell_type": "code",
   "execution_count": 100,
   "id": "570ce24f",
   "metadata": {},
   "outputs": [
    {
     "name": "stderr",
     "output_type": "stream",
     "text": [
      "[nltk_data] Downloading package wordnet to\n",
      "[nltk_data]     C:\\Users\\user\\AppData\\Roaming\\nltk_data...\n"
     ]
    },
    {
     "data": {
      "text/plain": [
       "True"
      ]
     },
     "execution_count": 100,
     "metadata": {},
     "output_type": "execute_result"
    }
   ],
   "source": [
    "import nltk\n",
    "from nltk.stem import WordNetLemmatizer\n",
    "nltk.download('wordnet')"
   ]
  },
  {
   "cell_type": "code",
   "execution_count": 104,
   "id": "a0815a75",
   "metadata": {
    "scrolled": true
   },
   "outputs": [
    {
     "name": "stderr",
     "output_type": "stream",
     "text": [
      "C:\\Users\\user\\AppData\\Local\\Temp\\ipykernel_18876\\3315847361.py:6: SettingWithCopyWarning: \n",
      "A value is trying to be set on a copy of a slice from a DataFrame.\n",
      "Try using .loc[row_indexer,col_indexer] = value instead\n",
      "\n",
      "See the caveats in the documentation: https://pandas.pydata.org/pandas-docs/stable/user_guide/indexing.html#returning-a-view-versus-a-copy\n",
      "  dataset['lemmatizedRows'] = dataset['text_cleaned'].apply(lemmatizeRows)\n"
     ]
    },
    {
     "data": {
      "text/html": [
       "<div>\n",
       "<style scoped>\n",
       "    .dataframe tbody tr th:only-of-type {\n",
       "        vertical-align: middle;\n",
       "    }\n",
       "\n",
       "    .dataframe tbody tr th {\n",
       "        vertical-align: top;\n",
       "    }\n",
       "\n",
       "    .dataframe thead th {\n",
       "        text-align: right;\n",
       "    }\n",
       "</style>\n",
       "<table border=\"1\" class=\"dataframe\">\n",
       "  <thead>\n",
       "    <tr style=\"text-align: right;\">\n",
       "      <th></th>\n",
       "      <th>text</th>\n",
       "      <th>Category</th>\n",
       "      <th>text_cleaned</th>\n",
       "      <th>lemmatizedRows</th>\n",
       "    </tr>\n",
       "  </thead>\n",
       "  <tbody>\n",
       "    <tr>\n",
       "      <th>0</th>\n",
       "      <td>just had a real good moment. i missssssssss hi...</td>\n",
       "      <td>Not Depressed</td>\n",
       "      <td>real good moment miss much</td>\n",
       "      <td>real good moment miss much</td>\n",
       "    </tr>\n",
       "    <tr>\n",
       "      <th>1</th>\n",
       "      <td>is reading manga  http://plurk.com/p/mzp1e</td>\n",
       "      <td>Not Depressed</td>\n",
       "      <td>read manga</td>\n",
       "      <td>read manga</td>\n",
       "    </tr>\n",
       "    <tr>\n",
       "      <th>2</th>\n",
       "      <td>@comeagainjen http://twitpic.com/2y2lx - http:...</td>\n",
       "      <td>Not Depressed</td>\n",
       "      <td>comeagainjen</td>\n",
       "      <td>comeagainjen</td>\n",
       "    </tr>\n",
       "    <tr>\n",
       "      <th>3</th>\n",
       "      <td>@lapcat Need to send 'em to my accountant tomo...</td>\n",
       "      <td>Not Depressed</td>\n",
       "      <td>lapcat need send em accountant tomorrow oddly ...</td>\n",
       "      <td>lapcat need send em accountant tomorrow oddly ...</td>\n",
       "    </tr>\n",
       "    <tr>\n",
       "      <th>4</th>\n",
       "      <td>ADD ME ON MYSPACE!!!  myspace.com/LookThunder</td>\n",
       "      <td>Not Depressed</td>\n",
       "      <td>add myspace</td>\n",
       "      <td>add myspace</td>\n",
       "    </tr>\n",
       "  </tbody>\n",
       "</table>\n",
       "</div>"
      ],
      "text/plain": [
       "                                                text       Category  \\\n",
       "0  just had a real good moment. i missssssssss hi...  Not Depressed   \n",
       "1         is reading manga  http://plurk.com/p/mzp1e  Not Depressed   \n",
       "2  @comeagainjen http://twitpic.com/2y2lx - http:...  Not Depressed   \n",
       "3  @lapcat Need to send 'em to my accountant tomo...  Not Depressed   \n",
       "4      ADD ME ON MYSPACE!!!  myspace.com/LookThunder  Not Depressed   \n",
       "\n",
       "                                        text_cleaned  \\\n",
       "0                         real good moment miss much   \n",
       "1                                         read manga   \n",
       "2                                       comeagainjen   \n",
       "3  lapcat need send em accountant tomorrow oddly ...   \n",
       "4                                        add myspace   \n",
       "\n",
       "                                      lemmatizedRows  \n",
       "0                         real good moment miss much  \n",
       "1                                         read manga  \n",
       "2                                       comeagainjen  \n",
       "3  lapcat need send em accountant tomorrow oddly ...  \n",
       "4                                        add myspace  "
      ]
     },
     "execution_count": 104,
     "metadata": {},
     "output_type": "execute_result"
    }
   ],
   "source": [
    "lemmatizer = nltk.stem.wordnet.WordNetLemmatizer()\n",
    "\n",
    "def lemmatizeRows(text):\n",
    "    return \" \".join([lemmatizer.lemmatize(word) for word in text.split()])\n",
    "\n",
    "dataset['lemmatizedRows'] = dataset['text_cleaned'].apply(lemmatizeRows)\n",
    " dataset['lemmatizedRows']= dataset['text_celeaned']\n",
    "dataset.head()"
   ]
  },
  {
   "cell_type": "markdown",
   "id": "5e19e8e3",
   "metadata": {},
   "source": [
    "11 - Stemming"
   ]
  },
  {
   "cell_type": "code",
   "execution_count": 105,
   "id": "c8455ebe",
   "metadata": {
    "scrolled": true
   },
   "outputs": [
    {
     "name": "stderr",
     "output_type": "stream",
     "text": [
      "C:\\Users\\user\\AppData\\Local\\Temp\\ipykernel_18876\\555767597.py:6: SettingWithCopyWarning: \n",
      "A value is trying to be set on a copy of a slice from a DataFrame.\n",
      "Try using .loc[row_indexer,col_indexer] = value instead\n",
      "\n",
      "See the caveats in the documentation: https://pandas.pydata.org/pandas-docs/stable/user_guide/indexing.html#returning-a-view-versus-a-copy\n",
      "  dataset['stemmedRows'] = dataset['lemmatizedRows'].apply(stemRows)\n"
     ]
    },
    {
     "data": {
      "text/html": [
       "<div>\n",
       "<style scoped>\n",
       "    .dataframe tbody tr th:only-of-type {\n",
       "        vertical-align: middle;\n",
       "    }\n",
       "\n",
       "    .dataframe tbody tr th {\n",
       "        vertical-align: top;\n",
       "    }\n",
       "\n",
       "    .dataframe thead th {\n",
       "        text-align: right;\n",
       "    }\n",
       "</style>\n",
       "<table border=\"1\" class=\"dataframe\">\n",
       "  <thead>\n",
       "    <tr style=\"text-align: right;\">\n",
       "      <th></th>\n",
       "      <th>text</th>\n",
       "      <th>Category</th>\n",
       "      <th>text_cleaned</th>\n",
       "      <th>lemmatizedRows</th>\n",
       "      <th>stemmedRows</th>\n",
       "    </tr>\n",
       "  </thead>\n",
       "  <tbody>\n",
       "    <tr>\n",
       "      <th>0</th>\n",
       "      <td>just had a real good moment. i missssssssss hi...</td>\n",
       "      <td>Not Depressed</td>\n",
       "      <td>real good moment miss much</td>\n",
       "      <td>real good moment miss much</td>\n",
       "      <td>real good moment miss much</td>\n",
       "    </tr>\n",
       "    <tr>\n",
       "      <th>1</th>\n",
       "      <td>is reading manga  http://plurk.com/p/mzp1e</td>\n",
       "      <td>Not Depressed</td>\n",
       "      <td>read manga</td>\n",
       "      <td>read manga</td>\n",
       "      <td>read manga</td>\n",
       "    </tr>\n",
       "    <tr>\n",
       "      <th>2</th>\n",
       "      <td>@comeagainjen http://twitpic.com/2y2lx - http:...</td>\n",
       "      <td>Not Depressed</td>\n",
       "      <td>comeagainjen</td>\n",
       "      <td>comeagainjen</td>\n",
       "      <td>comeagainjen</td>\n",
       "    </tr>\n",
       "    <tr>\n",
       "      <th>3</th>\n",
       "      <td>@lapcat Need to send 'em to my accountant tomo...</td>\n",
       "      <td>Not Depressed</td>\n",
       "      <td>lapcat need send em accountant tomorrow oddly ...</td>\n",
       "      <td>lapcat need send em accountant tomorrow oddly ...</td>\n",
       "      <td>lapcat need send em account tomorrow oddli eve...</td>\n",
       "    </tr>\n",
       "    <tr>\n",
       "      <th>4</th>\n",
       "      <td>ADD ME ON MYSPACE!!!  myspace.com/LookThunder</td>\n",
       "      <td>Not Depressed</td>\n",
       "      <td>add myspace</td>\n",
       "      <td>add myspace</td>\n",
       "      <td>add myspac</td>\n",
       "    </tr>\n",
       "  </tbody>\n",
       "</table>\n",
       "</div>"
      ],
      "text/plain": [
       "                                                text       Category  \\\n",
       "0  just had a real good moment. i missssssssss hi...  Not Depressed   \n",
       "1         is reading manga  http://plurk.com/p/mzp1e  Not Depressed   \n",
       "2  @comeagainjen http://twitpic.com/2y2lx - http:...  Not Depressed   \n",
       "3  @lapcat Need to send 'em to my accountant tomo...  Not Depressed   \n",
       "4      ADD ME ON MYSPACE!!!  myspace.com/LookThunder  Not Depressed   \n",
       "\n",
       "                                        text_cleaned  \\\n",
       "0                         real good moment miss much   \n",
       "1                                         read manga   \n",
       "2                                       comeagainjen   \n",
       "3  lapcat need send em accountant tomorrow oddly ...   \n",
       "4                                        add myspace   \n",
       "\n",
       "                                      lemmatizedRows  \\\n",
       "0                         real good moment miss much   \n",
       "1                                         read manga   \n",
       "2                                       comeagainjen   \n",
       "3  lapcat need send em accountant tomorrow oddly ...   \n",
       "4                                        add myspace   \n",
       "\n",
       "                                         stemmedRows  \n",
       "0                         real good moment miss much  \n",
       "1                                         read manga  \n",
       "2                                       comeagainjen  \n",
       "3  lapcat need send em account tomorrow oddli eve...  \n",
       "4                                         add myspac  "
      ]
     },
     "execution_count": 105,
     "metadata": {},
     "output_type": "execute_result"
    }
   ],
   "source": [
    "stemmer = PorterStemmer()\n",
    "\n",
    "def stemRows(text):\n",
    "    return \" \".join([stemmer.stem(word) for word in text.split()])\n",
    "\n",
    "dataset['stemmedRows'] = dataset['lemmatizedRows'].apply(stemRows)\n",
    "\n",
    "dataset.head()"
   ]
  },
  {
   "cell_type": "code",
   "execution_count": 109,
   "id": "8b16baf4",
   "metadata": {
    "scrolled": true
   },
   "outputs": [
    {
     "data": {
      "text/plain": [
       "text              0\n",
       "Category          0\n",
       "text_cleaned      0\n",
       "lemmatizedRows    0\n",
       "stemmedRows       0\n",
       "dtype: int64"
      ]
     },
     "execution_count": 109,
     "metadata": {},
     "output_type": "execute_result"
    }
   ],
   "source": [
    "dataset.isnull().sum()"
   ]
  },
  {
   "cell_type": "markdown",
   "id": "d473faf9",
   "metadata": {},
   "source": [
    "# Build a Naive Bayes mode"
   ]
  },
  {
   "cell_type": "code",
   "execution_count": 69,
   "id": "d6bfd9cf",
   "metadata": {},
   "outputs": [
    {
     "name": "stdout",
     "output_type": "stream",
     "text": [
      "Accuracy: 97.67%\n",
      "Confusion Matrix:\n",
      " [[1582   32]\n",
      " [  16  433]]\n",
      "Classification Report:\n",
      "               precision    recall  f1-score   support\n",
      "\n",
      "           0       0.99      0.98      0.99      1614\n",
      "           1       0.93      0.96      0.95       449\n",
      "\n",
      "    accuracy                           0.98      2063\n",
      "   macro avg       0.96      0.97      0.97      2063\n",
      "weighted avg       0.98      0.98      0.98      2063\n",
      "\n"
     ]
    }
   ],
   "source": [
    "import pandas as pd\n",
    "from sklearn.model_selection import train_test_split\n",
    "from sklearn.feature_extraction.text import CountVectorizer\n",
    "from sklearn.naive_bayes import MultinomialNB\n",
    "from sklearn.metrics import accuracy_score, classification_report, confusion_matrix\n",
    "\n",
    "dataset = pd.read_csv(r'C:\\Users\\USER\\Desktop\\Python\\jupyter\\sentiment_tweets3.csv')\n",
    "\n",
    "X = dataset['message to examine']\n",
    "y = dataset['label (depression result)']\n",
    "\n",
    "# Split the dataset into training and testing sets\n",
    "X_train, X_test, y_train, y_test = train_test_split(X, y, test_size=0.2, random_state=42)\n",
    "\n",
    "# Vectorize the text data using CountVectorizer\n",
    "vectorizer = CountVectorizer()\n",
    "X_train_vectorized = vectorizer.fit_transform(X_train)\n",
    "X_test_vectorized = vectorizer.transform(X_test)\n",
    "\n",
    "# Build a Naive Bayes model (Multinomial Naive Bayes)\n",
    "naive_bayes_model = MultinomialNB()\n",
    "\n",
    "# Train the model\n",
    "naive_bayes_model.fit(X_train_vectorized, y_train)\n",
    "\n",
    "# Make predictions on the test set\n",
    "y_pred = naive_bayes_model.predict(X_test_vectorized)\n",
    "\n",
    "# Evaluate the model\n",
    "accuracy = accuracy_score(y_test, y_pred)\n",
    "conf_matrix = confusion_matrix(y_test, y_pred)\n",
    "classification_rep = classification_report(y_test, y_pred)\n",
    "\n",
    "print(f\"Accuracy: {accuracy:.2%}\")\n",
    "print(\"Confusion Matrix:\\n\", conf_matrix)\n",
    "print(\"Classification Report:\\n\", classification_rep)\n"
   ]
  }
 ],
 "metadata": {
  "kernelspec": {
   "display_name": "Python 3",
   "language": "python",
   "name": "python3"
  },
  "language_info": {
   "codemirror_mode": {
    "name": "ipython",
    "version": 3
   },
   "file_extension": ".py",
   "mimetype": "text/x-python",
   "name": "python",
   "nbconvert_exporter": "python",
   "pygments_lexer": "ipython3",
   "version": "3.8.8"
  }
 },
 "nbformat": 4,
 "nbformat_minor": 5
}
