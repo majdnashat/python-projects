{
 "cells": [
  {
   "cell_type": "markdown",
   "id": "7d7148a6",
   "metadata": {},
   "source": [
    "<H1><b><center>  Flight Delay Prediction Using Machine Learning Project </h1></b> </center>\n"
   ]
  },
  {
   "cell_type": "markdown",
   "id": "a9a1723d",
   "metadata": {},
   "source": [
    "<h3><b> Import Libraries: </h3></b>"
   ]
  },
  {
   "cell_type": "code",
   "execution_count": 65,
   "id": "5cd67aa3",
   "metadata": {},
   "outputs": [],
   "source": [
    "import warnings\n",
    "import numpy as np\n",
    "import pandas as pd\n",
    "import seaborn as sns\n",
    "import matplotlib.pyplot as plt\n",
    "from sklearn.metrics import confusion_matrix\n",
    "from sklearn.preprocessing import LabelEncoder\n",
    "from sklearn.tree import DecisionTreeClassifier\n",
    "from sklearn.ensemble import ExtraTreesClassifier\n",
    "from sklearn.ensemble import RandomForestClassifier\n",
    "from sklearn.linear_model import LogisticRegression\n",
    "from sklearn.model_selection import train_test_split\n",
    "from sklearn.metrics import classification_report, accuracy_score\n",
    "\n",
    "warnings.filterwarnings(\"ignore\")\n"
   ]
  },
  {
   "cell_type": "markdown",
   "id": "d6897d41",
   "metadata": {
    "id": "db75cc74"
   },
   "source": [
    "<h3><b>Importing dataset: </h3></b>\n",
    "\n"
   ]
  },
  {
   "cell_type": "code",
   "execution_count": 66,
   "id": "894c2bea",
   "metadata": {
    "id": "894c2bea"
   },
   "outputs": [],
   "source": [
    "df = pd.read_csv('M1_final.csv')"
   ]
  },
  {
   "cell_type": "markdown",
   "id": "af32b4c6",
   "metadata": {},
   "source": [
    "<h3><b> Data Overview: </h3></b>"
   ]
  },
  {
   "cell_type": "code",
   "execution_count": 67,
   "id": "19b9bfec",
   "metadata": {
    "scrolled": true
   },
   "outputs": [
    {
     "name": "stdout",
     "output_type": "stream",
     "text": [
      "<class 'pandas.core.frame.DataFrame'>\n",
      "RangeIndex: 28820 entries, 0 to 28819\n",
      "Data columns (total 23 columns):\n",
      " #   Column             Non-Null Count  Dtype  \n",
      "---  ------             --------------  -----  \n",
      " 0   MONTH              28820 non-null  int64  \n",
      " 1   DAY_OF_MONTH       28820 non-null  int64  \n",
      " 2   DAY_OF_WEEK        28820 non-null  int64  \n",
      " 3   OP_UNIQUE_CARRIER  28820 non-null  object \n",
      " 4   TAIL_NUM           28820 non-null  object \n",
      " 5   DEST               28820 non-null  object \n",
      " 6   DEP_DELAY          28820 non-null  int64  \n",
      " 7   CRS_ELAPSED_TIME   28820 non-null  int64  \n",
      " 8   DISTANCE           28820 non-null  int64  \n",
      " 9   CRS_DEP_M          28820 non-null  int64  \n",
      " 10  DEP_TIME_M         28820 non-null  int64  \n",
      " 11  CRS_ARR_M          28820 non-null  int64  \n",
      " 12  Temperature        28820 non-null  int64  \n",
      " 13  Dew Point          28820 non-null  object \n",
      " 14  Humidity           28820 non-null  int64  \n",
      " 15  Wind               28818 non-null  object \n",
      " 16  Wind Speed         28820 non-null  int64  \n",
      " 17  Wind Gust          28820 non-null  int64  \n",
      " 18  Pressure           28820 non-null  float64\n",
      " 19  Condition          28820 non-null  object \n",
      " 20  sch_dep            28820 non-null  int64  \n",
      " 21  sch_arr            28820 non-null  int64  \n",
      " 22  TAXI_OUT           28820 non-null  int64  \n",
      "dtypes: float64(1), int64(16), object(6)\n",
      "memory usage: 5.1+ MB\n"
     ]
    }
   ],
   "source": [
    "df.info()"
   ]
  },
  {
   "cell_type": "code",
   "execution_count": 68,
   "id": "cc5513f5",
   "metadata": {},
   "outputs": [
    {
     "data": {
      "text/plain": [
       "(28820, 23)"
      ]
     },
     "execution_count": 68,
     "metadata": {},
     "output_type": "execute_result"
    }
   ],
   "source": [
    "df.shape"
   ]
  },
  {
   "cell_type": "code",
   "execution_count": 69,
   "id": "67b453f8",
   "metadata": {},
   "outputs": [
    {
     "data": {
      "text/html": [
       "<div>\n",
       "<style scoped>\n",
       "    .dataframe tbody tr th:only-of-type {\n",
       "        vertical-align: middle;\n",
       "    }\n",
       "\n",
       "    .dataframe tbody tr th {\n",
       "        vertical-align: top;\n",
       "    }\n",
       "\n",
       "    .dataframe thead th {\n",
       "        text-align: right;\n",
       "    }\n",
       "</style>\n",
       "<table border=\"1\" class=\"dataframe\">\n",
       "  <thead>\n",
       "    <tr style=\"text-align: right;\">\n",
       "      <th></th>\n",
       "      <th>MONTH</th>\n",
       "      <th>DAY_OF_MONTH</th>\n",
       "      <th>DAY_OF_WEEK</th>\n",
       "      <th>OP_UNIQUE_CARRIER</th>\n",
       "      <th>TAIL_NUM</th>\n",
       "      <th>DEST</th>\n",
       "      <th>DEP_DELAY</th>\n",
       "      <th>CRS_ELAPSED_TIME</th>\n",
       "      <th>DISTANCE</th>\n",
       "      <th>CRS_DEP_M</th>\n",
       "      <th>...</th>\n",
       "      <th>Dew Point</th>\n",
       "      <th>Humidity</th>\n",
       "      <th>Wind</th>\n",
       "      <th>Wind Speed</th>\n",
       "      <th>Wind Gust</th>\n",
       "      <th>Pressure</th>\n",
       "      <th>Condition</th>\n",
       "      <th>sch_dep</th>\n",
       "      <th>sch_arr</th>\n",
       "      <th>TAXI_OUT</th>\n",
       "    </tr>\n",
       "  </thead>\n",
       "  <tbody>\n",
       "    <tr>\n",
       "      <th>0</th>\n",
       "      <td>11</td>\n",
       "      <td>1</td>\n",
       "      <td>5</td>\n",
       "      <td>B6</td>\n",
       "      <td>N828JB</td>\n",
       "      <td>CHS</td>\n",
       "      <td>-1</td>\n",
       "      <td>124</td>\n",
       "      <td>636</td>\n",
       "      <td>324</td>\n",
       "      <td>...</td>\n",
       "      <td>34</td>\n",
       "      <td>58</td>\n",
       "      <td>W</td>\n",
       "      <td>25</td>\n",
       "      <td>38</td>\n",
       "      <td>29.86</td>\n",
       "      <td>Fair / Windy</td>\n",
       "      <td>9</td>\n",
       "      <td>17</td>\n",
       "      <td>14</td>\n",
       "    </tr>\n",
       "    <tr>\n",
       "      <th>1</th>\n",
       "      <td>11</td>\n",
       "      <td>1</td>\n",
       "      <td>5</td>\n",
       "      <td>B6</td>\n",
       "      <td>N992JB</td>\n",
       "      <td>LAX</td>\n",
       "      <td>-7</td>\n",
       "      <td>371</td>\n",
       "      <td>2475</td>\n",
       "      <td>340</td>\n",
       "      <td>...</td>\n",
       "      <td>34</td>\n",
       "      <td>58</td>\n",
       "      <td>W</td>\n",
       "      <td>25</td>\n",
       "      <td>38</td>\n",
       "      <td>29.86</td>\n",
       "      <td>Fair / Windy</td>\n",
       "      <td>9</td>\n",
       "      <td>17</td>\n",
       "      <td>15</td>\n",
       "    </tr>\n",
       "    <tr>\n",
       "      <th>2</th>\n",
       "      <td>11</td>\n",
       "      <td>1</td>\n",
       "      <td>5</td>\n",
       "      <td>B6</td>\n",
       "      <td>N959JB</td>\n",
       "      <td>FLL</td>\n",
       "      <td>40</td>\n",
       "      <td>181</td>\n",
       "      <td>1069</td>\n",
       "      <td>301</td>\n",
       "      <td>...</td>\n",
       "      <td>34</td>\n",
       "      <td>58</td>\n",
       "      <td>W</td>\n",
       "      <td>25</td>\n",
       "      <td>38</td>\n",
       "      <td>29.86</td>\n",
       "      <td>Fair / Windy</td>\n",
       "      <td>9</td>\n",
       "      <td>17</td>\n",
       "      <td>22</td>\n",
       "    </tr>\n",
       "    <tr>\n",
       "      <th>3</th>\n",
       "      <td>11</td>\n",
       "      <td>1</td>\n",
       "      <td>5</td>\n",
       "      <td>B6</td>\n",
       "      <td>N999JQ</td>\n",
       "      <td>MCO</td>\n",
       "      <td>-2</td>\n",
       "      <td>168</td>\n",
       "      <td>944</td>\n",
       "      <td>345</td>\n",
       "      <td>...</td>\n",
       "      <td>34</td>\n",
       "      <td>58</td>\n",
       "      <td>W</td>\n",
       "      <td>25</td>\n",
       "      <td>38</td>\n",
       "      <td>29.86</td>\n",
       "      <td>Fair / Windy</td>\n",
       "      <td>9</td>\n",
       "      <td>17</td>\n",
       "      <td>12</td>\n",
       "    </tr>\n",
       "    <tr>\n",
       "      <th>4</th>\n",
       "      <td>11</td>\n",
       "      <td>1</td>\n",
       "      <td>5</td>\n",
       "      <td>DL</td>\n",
       "      <td>N880DN</td>\n",
       "      <td>ATL</td>\n",
       "      <td>-4</td>\n",
       "      <td>139</td>\n",
       "      <td>760</td>\n",
       "      <td>360</td>\n",
       "      <td>...</td>\n",
       "      <td>32</td>\n",
       "      <td>58</td>\n",
       "      <td>W</td>\n",
       "      <td>24</td>\n",
       "      <td>35</td>\n",
       "      <td>29.91</td>\n",
       "      <td>Fair / Windy</td>\n",
       "      <td>9</td>\n",
       "      <td>17</td>\n",
       "      <td>13</td>\n",
       "    </tr>\n",
       "  </tbody>\n",
       "</table>\n",
       "<p>5 rows × 23 columns</p>\n",
       "</div>"
      ],
      "text/plain": [
       "   MONTH  DAY_OF_MONTH  DAY_OF_WEEK OP_UNIQUE_CARRIER TAIL_NUM DEST  \\\n",
       "0     11             1            5                B6   N828JB  CHS   \n",
       "1     11             1            5                B6   N992JB  LAX   \n",
       "2     11             1            5                B6   N959JB  FLL   \n",
       "3     11             1            5                B6   N999JQ  MCO   \n",
       "4     11             1            5                DL   N880DN  ATL   \n",
       "\n",
       "   DEP_DELAY  CRS_ELAPSED_TIME  DISTANCE  CRS_DEP_M  ...  Dew Point  Humidity  \\\n",
       "0         -1               124       636        324  ...         34        58   \n",
       "1         -7               371      2475        340  ...         34        58   \n",
       "2         40               181      1069        301  ...         34        58   \n",
       "3         -2               168       944        345  ...         34        58   \n",
       "4         -4               139       760        360  ...         32        58   \n",
       "\n",
       "   Wind Wind Speed  Wind Gust Pressure     Condition  sch_dep  sch_arr  \\\n",
       "0     W         25         38    29.86  Fair / Windy        9       17   \n",
       "1     W         25         38    29.86  Fair / Windy        9       17   \n",
       "2     W         25         38    29.86  Fair / Windy        9       17   \n",
       "3     W         25         38    29.86  Fair / Windy        9       17   \n",
       "4     W         24         35    29.91  Fair / Windy        9       17   \n",
       "\n",
       "  TAXI_OUT  \n",
       "0       14  \n",
       "1       15  \n",
       "2       22  \n",
       "3       12  \n",
       "4       13  \n",
       "\n",
       "[5 rows x 23 columns]"
      ]
     },
     "execution_count": 69,
     "metadata": {},
     "output_type": "execute_result"
    }
   ],
   "source": [
    "df.head()"
   ]
  },
  {
   "cell_type": "markdown",
   "id": "a3d3e123",
   "metadata": {},
   "source": [
    " <h3><b> Data Preprocessing: </h3></b>\n",
    "\n",
    "*   Handling Missing Values\n",
    "*   Check Duplicates Values\n",
    "*   Data formatting\n",
    "*   Feature Engineering"
   ]
  },
  {
   "cell_type": "markdown",
   "id": "7c657aa5",
   "metadata": {},
   "source": [
    "*  <b> Handling Missing Values </b>"
   ]
  },
  {
   "cell_type": "code",
   "execution_count": 70,
   "id": "f9e3d7f2",
   "metadata": {},
   "outputs": [
    {
     "name": "stdout",
     "output_type": "stream",
     "text": [
      "Null Values: MONTH                0\n",
      "DAY_OF_MONTH         0\n",
      "DAY_OF_WEEK          0\n",
      "OP_UNIQUE_CARRIER    0\n",
      "TAIL_NUM             0\n",
      "DEST                 0\n",
      "DEP_DELAY            0\n",
      "CRS_ELAPSED_TIME     0\n",
      "DISTANCE             0\n",
      "CRS_DEP_M            0\n",
      "DEP_TIME_M           0\n",
      "CRS_ARR_M            0\n",
      "Temperature          0\n",
      "Dew Point            0\n",
      "Humidity             0\n",
      "Wind                 2\n",
      "Wind Speed           0\n",
      "Wind Gust            0\n",
      "Pressure             0\n",
      "Condition            0\n",
      "sch_dep              0\n",
      "sch_arr              0\n",
      "TAXI_OUT             0\n",
      "dtype: int64\n"
     ]
    }
   ],
   "source": [
    "print(\"Null Values:\", df.isnull().sum())\n",
    "df.dropna(inplace=True)"
   ]
  },
  {
   "cell_type": "code",
   "execution_count": 71,
   "id": "65c40001",
   "metadata": {},
   "outputs": [
    {
     "name": "stdout",
     "output_type": "stream",
     "text": [
      "Null Values: MONTH                0\n",
      "DAY_OF_MONTH         0\n",
      "DAY_OF_WEEK          0\n",
      "OP_UNIQUE_CARRIER    0\n",
      "TAIL_NUM             0\n",
      "DEST                 0\n",
      "DEP_DELAY            0\n",
      "CRS_ELAPSED_TIME     0\n",
      "DISTANCE             0\n",
      "CRS_DEP_M            0\n",
      "DEP_TIME_M           0\n",
      "CRS_ARR_M            0\n",
      "Temperature          0\n",
      "Dew Point            0\n",
      "Humidity             0\n",
      "Wind                 0\n",
      "Wind Speed           0\n",
      "Wind Gust            0\n",
      "Pressure             0\n",
      "Condition            0\n",
      "sch_dep              0\n",
      "sch_arr              0\n",
      "TAXI_OUT             0\n",
      "dtype: int64\n"
     ]
    }
   ],
   "source": [
    "print(\"Null Values:\", df.isnull().sum())"
   ]
  },
  {
   "cell_type": "markdown",
   "id": "ca0f7c1b",
   "metadata": {},
   "source": [
    "*  <b> Correlation matrix  </b>"
   ]
  },
  {
   "cell_type": "code",
   "execution_count": 72,
   "id": "74a32099",
   "metadata": {},
   "outputs": [
    {
     "data": {
      "image/png": "[encoded data removed]",
      "text/plain": [
       "<Figure size 864x720 with 2 Axes>"
      ]
     },
     "metadata": {
      "needs_background": "light"
     },
     "output_type": "display_data"
    }
   ],
   "source": [
    "# Make a copy of the dataset to avoid modifying the original dataset\n",
    "encoded_dataset = df.copy()\n",
    "\n",
    "# Encode categorical columns\n",
    "label_encoders = {}\n",
    "for col in ['OP_UNIQUE_CARRIER', 'TAIL_NUM', 'DEST', 'Wind', 'Condition']:\n",
    "    label_encoders[col] = LabelEncoder()\n",
    "    encoded_dataset[col] = label_encoders[col].fit_transform(df[col])\n",
    "\n",
    "# Calculate the correlation matrix\n",
    "corr_matrix = encoded_dataset.corr()\n",
    "\n",
    "# Create a heatmap\n",
    "plt.figure(figsize=(12, 10))\n",
    "sns.heatmap(corr_matrix, annot=True, cmap='coolwarm', fmt=\".2f\")\n",
    "plt.title('Correlation Matrix')\n",
    "plt.show()"
   ]
  },
  {
   "cell_type": "code",
   "execution_count": 73,
   "id": "1930a39b",
   "metadata": {},
   "outputs": [],
   "source": [
    "# Drop 'TAIL_NUM' column\n",
    "df.drop('TAIL_NUM', axis=1, inplace=True)"
   ]
  },
  {
   "cell_type": "markdown",
   "id": "4577703e",
   "metadata": {},
   "source": [
    "*  <b> Check Duplicates Values </b>"
   ]
  },
  {
   "cell_type": "code",
   "execution_count": 74,
   "id": "ba571666",
   "metadata": {},
   "outputs": [
    {
     "data": {
      "text/html": [
       "<div>\n",
       "<style scoped>\n",
       "    .dataframe tbody tr th:only-of-type {\n",
       "        vertical-align: middle;\n",
       "    }\n",
       "\n",
       "    .dataframe tbody tr th {\n",
       "        vertical-align: top;\n",
       "    }\n",
       "\n",
       "    .dataframe thead th {\n",
       "        text-align: right;\n",
       "    }\n",
       "</style>\n",
       "<table border=\"1\" class=\"dataframe\">\n",
       "  <thead>\n",
       "    <tr style=\"text-align: right;\">\n",
       "      <th></th>\n",
       "      <th>OP_UNIQUE_CARRIER</th>\n",
       "      <th>DEST</th>\n",
       "      <th>Wind</th>\n",
       "      <th>Condition</th>\n",
       "    </tr>\n",
       "  </thead>\n",
       "  <tbody>\n",
       "    <tr>\n",
       "      <th>0</th>\n",
       "      <td>B6</td>\n",
       "      <td>CHS</td>\n",
       "      <td>W</td>\n",
       "      <td>Fair / Windy</td>\n",
       "    </tr>\n",
       "    <tr>\n",
       "      <th>1</th>\n",
       "      <td>B6</td>\n",
       "      <td>LAX</td>\n",
       "      <td>W</td>\n",
       "      <td>Fair / Windy</td>\n",
       "    </tr>\n",
       "    <tr>\n",
       "      <th>2</th>\n",
       "      <td>B6</td>\n",
       "      <td>FLL</td>\n",
       "      <td>W</td>\n",
       "      <td>Fair / Windy</td>\n",
       "    </tr>\n",
       "    <tr>\n",
       "      <th>3</th>\n",
       "      <td>B6</td>\n",
       "      <td>MCO</td>\n",
       "      <td>W</td>\n",
       "      <td>Fair / Windy</td>\n",
       "    </tr>\n",
       "    <tr>\n",
       "      <th>4</th>\n",
       "      <td>DL</td>\n",
       "      <td>ATL</td>\n",
       "      <td>W</td>\n",
       "      <td>Fair / Windy</td>\n",
       "    </tr>\n",
       "  </tbody>\n",
       "</table>\n",
       "</div>"
      ],
      "text/plain": [
       "  OP_UNIQUE_CARRIER DEST Wind     Condition\n",
       "0                B6  CHS    W  Fair / Windy\n",
       "1                B6  LAX    W  Fair / Windy\n",
       "2                B6  FLL    W  Fair / Windy\n",
       "3                B6  MCO    W  Fair / Windy\n",
       "4                DL  ATL    W  Fair / Windy"
      ]
     },
     "execution_count": 74,
     "metadata": {},
     "output_type": "execute_result"
    }
   ],
   "source": [
    "df[\"Dew Point\"] = df[\"Dew Point\"].astype(\"int64\")\n",
    "\n",
    "# Let's check if this fixed it.\n",
    "df.select_dtypes([\"object_\"]).head()"
   ]
  },
  {
   "cell_type": "code",
   "execution_count": 75,
   "id": "6259ac85",
   "metadata": {},
   "outputs": [
    {
     "name": "stdout",
     "output_type": "stream",
     "text": [
      "Number of duplicated rows: 0\n"
     ]
    }
   ],
   "source": [
    "# Count the number of duplicated rows\n",
    "print(\"Number of duplicated rows:\",df.duplicated().sum() )"
   ]
  },
  {
   "cell_type": "markdown",
   "id": "ba0c0957",
   "metadata": {},
   "source": [
    "*  <b> Data formatting</b>"
   ]
  },
  {
   "cell_type": "code",
   "execution_count": 76,
   "id": "cdb5a81f",
   "metadata": {},
   "outputs": [],
   "source": [
    "new_column_names = {\n",
    "    'MONTH': 'Month',\n",
    "    'DAY_OF_MONTH': 'DayOfMonth',\n",
    "    'DAY_OF_WEEK': 'DayOfWeek',\n",
    "    'OP_UNIQUE_CARRIER': 'Carrier',\n",
    "    'TAIL_NUM': 'FlightNumber',\n",
    "    'DEST': 'Destination',\n",
    "    'DEP_DELAY': 'DepartureDelay',\n",
    "    'CRS_ELAPSED_TIME': 'ScheduledJourneyTime',\n",
    "    'DISTANCE': 'Distance',\n",
    "    'CRS_DEP_M': 'ScheduledDepartureTime',\n",
    "    'DEP_TIME_M': 'ActualDepartureTime',\n",
    "    'CRS_ARR_M': 'ScheduledArrivalTime',\n",
    "    'Temperature': 'Temperature',\n",
    "    'Dew Point': 'DewPoint',\n",
    "    'Humidity': 'Humidity',\n",
    "    'Wind': 'WindDirection',\n",
    "    'Wind Speed': 'WindSpeed',\n",
    "    'Wind Gust': 'WindGust',\n",
    "    'Pressure': 'Pressure',\n",
    "    'Condition': 'WeatherCondition',\n",
    "    'sch_dep': 'ScheduledDepartureFlights',\n",
    "    'sch_arr': 'ScheduledArrivalFlights',\n",
    "    'TAXI_OUT': 'TaxiOutTime'\n",
    "}\n",
    "\n",
    "df.rename(columns=new_column_names, inplace=True)\n"
   ]
  },
  {
   "cell_type": "markdown",
   "id": "13af6d97",
   "metadata": {},
   "source": [
    "\n",
    "*  <b> Feature Engineering  </b>\n"
   ]
  },
  {
   "cell_type": "code",
   "execution_count": 77,
   "id": "3c6c86d0",
   "metadata": {
    "id": "3c6c86d0"
   },
   "outputs": [],
   "source": [
    "# Convert 'DEW_POINT' to integer\n",
    "df['DewPoint'] = df['DewPoint'].astype(int)"
   ]
  },
  {
   "cell_type": "code",
   "execution_count": 78,
   "id": "8cfb7961",
   "metadata": {},
   "outputs": [],
   "source": [
    "# Encode categorical variables to numerical\n",
    "label_encoders = {}\n",
    "for col in df.select_dtypes(include=['object']).columns:\n",
    "    label_encoders[col] = LabelEncoder()\n",
    "    df[col] = label_encoders[col].fit_transform(df[col])"
   ]
  },
  {
   "cell_type": "code",
   "execution_count": 79,
   "id": "e8fc0300",
   "metadata": {},
   "outputs": [],
   "source": [
    "# Create binary variable 'IS_DELAY'\n",
    "df['IS_DELAY'] = df['DepartureDelay'].apply(lambda x: 1 if x > 15 else 0)"
   ]
  },
  {
   "cell_type": "code",
   "execution_count": 80,
   "id": "8a7b6ce9",
   "metadata": {},
   "outputs": [
    {
     "data": {
      "text/html": [
       "<div>\n",
       "<style scoped>\n",
       "    .dataframe tbody tr th:only-of-type {\n",
       "        vertical-align: middle;\n",
       "    }\n",
       "\n",
       "    .dataframe tbody tr th {\n",
       "        vertical-align: top;\n",
       "    }\n",
       "\n",
       "    .dataframe thead th {\n",
       "        text-align: right;\n",
       "    }\n",
       "</style>\n",
       "<table border=\"1\" class=\"dataframe\">\n",
       "  <thead>\n",
       "    <tr style=\"text-align: right;\">\n",
       "      <th></th>\n",
       "      <th>Month</th>\n",
       "      <th>DayOfMonth</th>\n",
       "      <th>DayOfWeek</th>\n",
       "      <th>Carrier</th>\n",
       "      <th>Destination</th>\n",
       "      <th>DepartureDelay</th>\n",
       "      <th>ScheduledJourneyTime</th>\n",
       "      <th>Distance</th>\n",
       "      <th>ScheduledDepartureTime</th>\n",
       "      <th>ActualDepartureTime</th>\n",
       "      <th>...</th>\n",
       "      <th>Humidity</th>\n",
       "      <th>WindDirection</th>\n",
       "      <th>WindSpeed</th>\n",
       "      <th>WindGust</th>\n",
       "      <th>Pressure</th>\n",
       "      <th>WeatherCondition</th>\n",
       "      <th>ScheduledDepartureFlights</th>\n",
       "      <th>ScheduledArrivalFlights</th>\n",
       "      <th>TaxiOutTime</th>\n",
       "      <th>IS_DELAY</th>\n",
       "    </tr>\n",
       "  </thead>\n",
       "  <tbody>\n",
       "    <tr>\n",
       "      <th>0</th>\n",
       "      <td>11</td>\n",
       "      <td>1</td>\n",
       "      <td>5</td>\n",
       "      <td>3</td>\n",
       "      <td>10</td>\n",
       "      <td>-1</td>\n",
       "      <td>124</td>\n",
       "      <td>636</td>\n",
       "      <td>324</td>\n",
       "      <td>323</td>\n",
       "      <td>...</td>\n",
       "      <td>58</td>\n",
       "      <td>15</td>\n",
       "      <td>25</td>\n",
       "      <td>38</td>\n",
       "      <td>29.86</td>\n",
       "      <td>4</td>\n",
       "      <td>9</td>\n",
       "      <td>17</td>\n",
       "      <td>14</td>\n",
       "      <td>0</td>\n",
       "    </tr>\n",
       "    <tr>\n",
       "      <th>1</th>\n",
       "      <td>11</td>\n",
       "      <td>1</td>\n",
       "      <td>5</td>\n",
       "      <td>3</td>\n",
       "      <td>28</td>\n",
       "      <td>-7</td>\n",
       "      <td>371</td>\n",
       "      <td>2475</td>\n",
       "      <td>340</td>\n",
       "      <td>333</td>\n",
       "      <td>...</td>\n",
       "      <td>58</td>\n",
       "      <td>15</td>\n",
       "      <td>25</td>\n",
       "      <td>38</td>\n",
       "      <td>29.86</td>\n",
       "      <td>4</td>\n",
       "      <td>9</td>\n",
       "      <td>17</td>\n",
       "      <td>15</td>\n",
       "      <td>0</td>\n",
       "    </tr>\n",
       "    <tr>\n",
       "      <th>2</th>\n",
       "      <td>11</td>\n",
       "      <td>1</td>\n",
       "      <td>5</td>\n",
       "      <td>3</td>\n",
       "      <td>20</td>\n",
       "      <td>40</td>\n",
       "      <td>181</td>\n",
       "      <td>1069</td>\n",
       "      <td>301</td>\n",
       "      <td>341</td>\n",
       "      <td>...</td>\n",
       "      <td>58</td>\n",
       "      <td>15</td>\n",
       "      <td>25</td>\n",
       "      <td>38</td>\n",
       "      <td>29.86</td>\n",
       "      <td>4</td>\n",
       "      <td>9</td>\n",
       "      <td>17</td>\n",
       "      <td>22</td>\n",
       "      <td>1</td>\n",
       "    </tr>\n",
       "    <tr>\n",
       "      <th>3</th>\n",
       "      <td>11</td>\n",
       "      <td>1</td>\n",
       "      <td>5</td>\n",
       "      <td>3</td>\n",
       "      <td>30</td>\n",
       "      <td>-2</td>\n",
       "      <td>168</td>\n",
       "      <td>944</td>\n",
       "      <td>345</td>\n",
       "      <td>343</td>\n",
       "      <td>...</td>\n",
       "      <td>58</td>\n",
       "      <td>15</td>\n",
       "      <td>25</td>\n",
       "      <td>38</td>\n",
       "      <td>29.86</td>\n",
       "      <td>4</td>\n",
       "      <td>9</td>\n",
       "      <td>17</td>\n",
       "      <td>12</td>\n",
       "      <td>0</td>\n",
       "    </tr>\n",
       "    <tr>\n",
       "      <th>4</th>\n",
       "      <td>11</td>\n",
       "      <td>1</td>\n",
       "      <td>5</td>\n",
       "      <td>4</td>\n",
       "      <td>1</td>\n",
       "      <td>-4</td>\n",
       "      <td>139</td>\n",
       "      <td>760</td>\n",
       "      <td>360</td>\n",
       "      <td>356</td>\n",
       "      <td>...</td>\n",
       "      <td>58</td>\n",
       "      <td>15</td>\n",
       "      <td>24</td>\n",
       "      <td>35</td>\n",
       "      <td>29.91</td>\n",
       "      <td>4</td>\n",
       "      <td>9</td>\n",
       "      <td>17</td>\n",
       "      <td>13</td>\n",
       "      <td>0</td>\n",
       "    </tr>\n",
       "  </tbody>\n",
       "</table>\n",
       "<p>5 rows × 23 columns</p>\n",
       "</div>"
      ],
      "text/plain": [
       "   Month  DayOfMonth  DayOfWeek  Carrier  Destination  DepartureDelay  \\\n",
       "0     11           1          5        3           10              -1   \n",
       "1     11           1          5        3           28              -7   \n",
       "2     11           1          5        3           20              40   \n",
       "3     11           1          5        3           30              -2   \n",
       "4     11           1          5        4            1              -4   \n",
       "\n",
       "   ScheduledJourneyTime  Distance  ScheduledDepartureTime  \\\n",
       "0                   124       636                     324   \n",
       "1                   371      2475                     340   \n",
       "2                   181      1069                     301   \n",
       "3                   168       944                     345   \n",
       "4                   139       760                     360   \n",
       "\n",
       "   ActualDepartureTime  ...  Humidity  WindDirection  WindSpeed  WindGust  \\\n",
       "0                  323  ...        58             15         25        38   \n",
       "1                  333  ...        58             15         25        38   \n",
       "2                  341  ...        58             15         25        38   \n",
       "3                  343  ...        58             15         25        38   \n",
       "4                  356  ...        58             15         24        35   \n",
       "\n",
       "   Pressure  WeatherCondition  ScheduledDepartureFlights  \\\n",
       "0     29.86                 4                          9   \n",
       "1     29.86                 4                          9   \n",
       "2     29.86                 4                          9   \n",
       "3     29.86                 4                          9   \n",
       "4     29.91                 4                          9   \n",
       "\n",
       "   ScheduledArrivalFlights  TaxiOutTime  IS_DELAY  \n",
       "0                       17           14         0  \n",
       "1                       17           15         0  \n",
       "2                       17           22         1  \n",
       "3                       17           12         0  \n",
       "4                       17           13         0  \n",
       "\n",
       "[5 rows x 23 columns]"
      ]
     },
     "execution_count": 80,
     "metadata": {},
     "output_type": "execute_result"
    }
   ],
   "source": [
    "df.head(5)"
   ]
  },
  {
   "cell_type": "markdown",
   "id": "7443bf54",
   "metadata": {},
   "source": [
    "<h3><b> Exploratory Data Analysis (EDA): </h3></b>\n",
    "\n",
    "\n",
    " *    Summary Statistics\n",
    " *    Data visualization\n",
    " \n"
   ]
  },
  {
   "cell_type": "markdown",
   "id": "ca69dd68",
   "metadata": {},
   "source": [
    "*  <b> Summary Statistics  </b>"
   ]
  },
  {
   "cell_type": "code",
   "execution_count": 81,
   "id": "c3e81dd5",
   "metadata": {},
   "outputs": [
    {
     "data": {
      "text/html": [
       "<div>\n",
       "<style scoped>\n",
       "    .dataframe tbody tr th:only-of-type {\n",
       "        vertical-align: middle;\n",
       "    }\n",
       "\n",
       "    .dataframe tbody tr th {\n",
       "        vertical-align: top;\n",
       "    }\n",
       "\n",
       "    .dataframe thead th {\n",
       "        text-align: right;\n",
       "    }\n",
       "</style>\n",
       "<table border=\"1\" class=\"dataframe\">\n",
       "  <thead>\n",
       "    <tr style=\"text-align: right;\">\n",
       "      <th></th>\n",
       "      <th>Month</th>\n",
       "      <th>DayOfMonth</th>\n",
       "      <th>DayOfWeek</th>\n",
       "      <th>Carrier</th>\n",
       "      <th>Destination</th>\n",
       "      <th>DepartureDelay</th>\n",
       "      <th>ScheduledJourneyTime</th>\n",
       "      <th>Distance</th>\n",
       "      <th>ScheduledDepartureTime</th>\n",
       "      <th>ActualDepartureTime</th>\n",
       "      <th>...</th>\n",
       "      <th>Humidity</th>\n",
       "      <th>WindDirection</th>\n",
       "      <th>WindSpeed</th>\n",
       "      <th>WindGust</th>\n",
       "      <th>Pressure</th>\n",
       "      <th>WeatherCondition</th>\n",
       "      <th>ScheduledDepartureFlights</th>\n",
       "      <th>ScheduledArrivalFlights</th>\n",
       "      <th>TaxiOutTime</th>\n",
       "      <th>IS_DELAY</th>\n",
       "    </tr>\n",
       "  </thead>\n",
       "  <tbody>\n",
       "    <tr>\n",
       "      <th>count</th>\n",
       "      <td>28818.000000</td>\n",
       "      <td>28818.000000</td>\n",
       "      <td>28818.000000</td>\n",
       "      <td>28818.000000</td>\n",
       "      <td>28818.000000</td>\n",
       "      <td>28818.000000</td>\n",
       "      <td>28818.000000</td>\n",
       "      <td>28818.000000</td>\n",
       "      <td>28818.000000</td>\n",
       "      <td>28818.000000</td>\n",
       "      <td>...</td>\n",
       "      <td>28818.000000</td>\n",
       "      <td>28818.000000</td>\n",
       "      <td>28818.000000</td>\n",
       "      <td>28818.000000</td>\n",
       "      <td>28818.000000</td>\n",
       "      <td>28818.000000</td>\n",
       "      <td>28818.000000</td>\n",
       "      <td>28818.000000</td>\n",
       "      <td>28818.000000</td>\n",
       "      <td>28818.000000</td>\n",
       "    </tr>\n",
       "    <tr>\n",
       "      <th>mean</th>\n",
       "      <td>7.893955</td>\n",
       "      <td>16.020890</td>\n",
       "      <td>4.008953</td>\n",
       "      <td>2.828441</td>\n",
       "      <td>31.019224</td>\n",
       "      <td>6.373239</td>\n",
       "      <td>225.294399</td>\n",
       "      <td>1267.787494</td>\n",
       "      <td>830.970470</td>\n",
       "      <td>828.898987</td>\n",
       "      <td>...</td>\n",
       "      <td>57.732806</td>\n",
       "      <td>9.577209</td>\n",
       "      <td>12.368485</td>\n",
       "      <td>5.535707</td>\n",
       "      <td>30.092410</td>\n",
       "      <td>10.370741</td>\n",
       "      <td>31.091956</td>\n",
       "      <td>28.431813</td>\n",
       "      <td>20.857207</td>\n",
       "      <td>0.134395</td>\n",
       "    </tr>\n",
       "    <tr>\n",
       "      <th>std</th>\n",
       "      <td>4.991779</td>\n",
       "      <td>8.750448</td>\n",
       "      <td>1.985299</td>\n",
       "      <td>1.865352</td>\n",
       "      <td>18.727287</td>\n",
       "      <td>38.735195</td>\n",
       "      <td>119.483432</td>\n",
       "      <td>889.354031</td>\n",
       "      <td>299.381938</td>\n",
       "      <td>305.844666</td>\n",
       "      <td>...</td>\n",
       "      <td>23.469480</td>\n",
       "      <td>5.100893</td>\n",
       "      <td>6.258667</td>\n",
       "      <td>11.886780</td>\n",
       "      <td>0.296158</td>\n",
       "      <td>7.273624</td>\n",
       "      <td>9.510317</td>\n",
       "      <td>8.263242</td>\n",
       "      <td>6.850197</td>\n",
       "      <td>0.341082</td>\n",
       "    </tr>\n",
       "    <tr>\n",
       "      <th>min</th>\n",
       "      <td>1.000000</td>\n",
       "      <td>1.000000</td>\n",
       "      <td>1.000000</td>\n",
       "      <td>0.000000</td>\n",
       "      <td>0.000000</td>\n",
       "      <td>-22.000000</td>\n",
       "      <td>57.000000</td>\n",
       "      <td>94.000000</td>\n",
       "      <td>301.000000</td>\n",
       "      <td>1.000000</td>\n",
       "      <td>...</td>\n",
       "      <td>0.000000</td>\n",
       "      <td>0.000000</td>\n",
       "      <td>0.000000</td>\n",
       "      <td>0.000000</td>\n",
       "      <td>29.200000</td>\n",
       "      <td>0.000000</td>\n",
       "      <td>0.000000</td>\n",
       "      <td>0.000000</td>\n",
       "      <td>5.000000</td>\n",
       "      <td>0.000000</td>\n",
       "    </tr>\n",
       "    <tr>\n",
       "      <th>25%</th>\n",
       "      <td>1.000000</td>\n",
       "      <td>8.000000</td>\n",
       "      <td>2.000000</td>\n",
       "      <td>1.000000</td>\n",
       "      <td>15.000000</td>\n",
       "      <td>-6.000000</td>\n",
       "      <td>124.000000</td>\n",
       "      <td>483.000000</td>\n",
       "      <td>545.000000</td>\n",
       "      <td>542.000000</td>\n",
       "      <td>...</td>\n",
       "      <td>46.000000</td>\n",
       "      <td>6.000000</td>\n",
       "      <td>8.000000</td>\n",
       "      <td>0.000000</td>\n",
       "      <td>29.880000</td>\n",
       "      <td>3.000000</td>\n",
       "      <td>26.000000</td>\n",
       "      <td>21.000000</td>\n",
       "      <td>16.000000</td>\n",
       "      <td>0.000000</td>\n",
       "    </tr>\n",
       "    <tr>\n",
       "      <th>50%</th>\n",
       "      <td>11.000000</td>\n",
       "      <td>16.000000</td>\n",
       "      <td>4.000000</td>\n",
       "      <td>3.000000</td>\n",
       "      <td>28.000000</td>\n",
       "      <td>-3.000000</td>\n",
       "      <td>188.000000</td>\n",
       "      <td>1029.000000</td>\n",
       "      <td>856.000000</td>\n",
       "      <td>854.000000</td>\n",
       "      <td>...</td>\n",
       "      <td>59.000000</td>\n",
       "      <td>9.000000</td>\n",
       "      <td>12.000000</td>\n",
       "      <td>0.000000</td>\n",
       "      <td>30.110000</td>\n",
       "      <td>16.000000</td>\n",
       "      <td>30.000000</td>\n",
       "      <td>30.000000</td>\n",
       "      <td>19.000000</td>\n",
       "      <td>0.000000</td>\n",
       "    </tr>\n",
       "    <tr>\n",
       "      <th>75%</th>\n",
       "      <td>12.000000</td>\n",
       "      <td>24.000000</td>\n",
       "      <td>6.000000</td>\n",
       "      <td>4.000000</td>\n",
       "      <td>48.000000</td>\n",
       "      <td>2.000000</td>\n",
       "      <td>365.000000</td>\n",
       "      <td>2248.000000</td>\n",
       "      <td>1095.000000</td>\n",
       "      <td>1097.000000</td>\n",
       "      <td>...</td>\n",
       "      <td>74.000000</td>\n",
       "      <td>15.000000</td>\n",
       "      <td>16.000000</td>\n",
       "      <td>0.000000</td>\n",
       "      <td>30.320000</td>\n",
       "      <td>16.000000</td>\n",
       "      <td>37.000000</td>\n",
       "      <td>35.000000</td>\n",
       "      <td>25.000000</td>\n",
       "      <td>0.000000</td>\n",
       "    </tr>\n",
       "    <tr>\n",
       "      <th>max</th>\n",
       "      <td>12.000000</td>\n",
       "      <td>31.000000</td>\n",
       "      <td>7.000000</td>\n",
       "      <td>8.000000</td>\n",
       "      <td>64.000000</td>\n",
       "      <td>1276.000000</td>\n",
       "      <td>697.000000</td>\n",
       "      <td>4983.000000</td>\n",
       "      <td>1439.000000</td>\n",
       "      <td>1440.000000</td>\n",
       "      <td>...</td>\n",
       "      <td>97.000000</td>\n",
       "      <td>17.000000</td>\n",
       "      <td>36.000000</td>\n",
       "      <td>49.000000</td>\n",
       "      <td>30.750000</td>\n",
       "      <td>24.000000</td>\n",
       "      <td>55.000000</td>\n",
       "      <td>46.000000</td>\n",
       "      <td>41.000000</td>\n",
       "      <td>1.000000</td>\n",
       "    </tr>\n",
       "  </tbody>\n",
       "</table>\n",
       "<p>8 rows × 23 columns</p>\n",
       "</div>"
      ],
      "text/plain": [
       "              Month    DayOfMonth     DayOfWeek       Carrier   Destination  \\\n",
       "count  28818.000000  28818.000000  28818.000000  28818.000000  28818.000000   \n",
       "mean       7.893955     16.020890      4.008953      2.828441     31.019224   \n",
       "std        4.991779      8.750448      1.985299      1.865352     18.727287   \n",
       "min        1.000000      1.000000      1.000000      0.000000      0.000000   \n",
       "25%        1.000000      8.000000      2.000000      1.000000     15.000000   \n",
       "50%       11.000000     16.000000      4.000000      3.000000     28.000000   \n",
       "75%       12.000000     24.000000      6.000000      4.000000     48.000000   \n",
       "max       12.000000     31.000000      7.000000      8.000000     64.000000   \n",
       "\n",
       "       DepartureDelay  ScheduledJourneyTime      Distance  \\\n",
       "count    28818.000000          28818.000000  28818.000000   \n",
       "mean         6.373239            225.294399   1267.787494   \n",
       "std         38.735195            119.483432    889.354031   \n",
       "min        -22.000000             57.000000     94.000000   \n",
       "25%         -6.000000            124.000000    483.000000   \n",
       "50%         -3.000000            188.000000   1029.000000   \n",
       "75%          2.000000            365.000000   2248.000000   \n",
       "max       1276.000000            697.000000   4983.000000   \n",
       "\n",
       "       ScheduledDepartureTime  ActualDepartureTime  ...      Humidity  \\\n",
       "count            28818.000000         28818.000000  ...  28818.000000   \n",
       "mean               830.970470           828.898987  ...     57.732806   \n",
       "std                299.381938           305.844666  ...     23.469480   \n",
       "min                301.000000             1.000000  ...      0.000000   \n",
       "25%                545.000000           542.000000  ...     46.000000   \n",
       "50%                856.000000           854.000000  ...     59.000000   \n",
       "75%               1095.000000          1097.000000  ...     74.000000   \n",
       "max               1439.000000          1440.000000  ...     97.000000   \n",
       "\n",
       "       WindDirection     WindSpeed      WindGust      Pressure  \\\n",
       "count   28818.000000  28818.000000  28818.000000  28818.000000   \n",
       "mean        9.577209     12.368485      5.535707     30.092410   \n",
       "std         5.100893      6.258667     11.886780      0.296158   \n",
       "min         0.000000      0.000000      0.000000     29.200000   \n",
       "25%         6.000000      8.000000      0.000000     29.880000   \n",
       "50%         9.000000     12.000000      0.000000     30.110000   \n",
       "75%        15.000000     16.000000      0.000000     30.320000   \n",
       "max        17.000000     36.000000     49.000000     30.750000   \n",
       "\n",
       "       WeatherCondition  ScheduledDepartureFlights  ScheduledArrivalFlights  \\\n",
       "count      28818.000000               28818.000000             28818.000000   \n",
       "mean          10.370741                  31.091956                28.431813   \n",
       "std            7.273624                   9.510317                 8.263242   \n",
       "min            0.000000                   0.000000                 0.000000   \n",
       "25%            3.000000                  26.000000                21.000000   \n",
       "50%           16.000000                  30.000000                30.000000   \n",
       "75%           16.000000                  37.000000                35.000000   \n",
       "max           24.000000                  55.000000                46.000000   \n",
       "\n",
       "        TaxiOutTime      IS_DELAY  \n",
       "count  28818.000000  28818.000000  \n",
       "mean      20.857207      0.134395  \n",
       "std        6.850197      0.341082  \n",
       "min        5.000000      0.000000  \n",
       "25%       16.000000      0.000000  \n",
       "50%       19.000000      0.000000  \n",
       "75%       25.000000      0.000000  \n",
       "max       41.000000      1.000000  \n",
       "\n",
       "[8 rows x 23 columns]"
      ]
     },
     "execution_count": 81,
     "metadata": {},
     "output_type": "execute_result"
    }
   ],
   "source": [
    "df.describe()"
   ]
  },
  {
   "cell_type": "markdown",
   "id": "8467a811",
   "metadata": {},
   "source": [
    "*  <b> Data visualization  </b>"
   ]
  },
  {
   "cell_type": "code",
   "execution_count": 18,
   "id": "29d6be45",
   "metadata": {},
   "outputs": [
    {
     "data": {
      "image/png": "[encoded data removed]",
      "text/plain": [
       "<Figure size 576x432 with 1 Axes>"
      ]
     },
     "metadata": {},
     "output_type": "display_data"
    }
   ],
   "source": [
    "# Calculate delay counts\n",
    "delay_counts = df['IS_DELAY'].value_counts()\n",
    "\n",
    "# Create a donut plot with 'coolwarm' colormap\n",
    "plt.figure(figsize=(8, 6))\n",
    "plt.pie(delay_counts, labels=['Not Delayed', 'Delayed'], autopct='%1.1f%%', startangle=90, colors=plt.cm.coolwarm([0.6, 0.4]))\n",
    "plt.title('Proportion of Delayed and Not Delayed Flights')\n",
    "# Draw a circle at the center of pie to make it look like a donut\n",
    "centre_circle = plt.Circle((0,0),0.70,fc='white')\n",
    "fig = plt.gcf()\n",
    "fig.gca().add_artist(centre_circle)\n",
    "plt.axis('equal')  \n",
    "plt.tight_layout()\n",
    "plt.show()\n"
   ]
  },
  {
   "cell_type": "code",
   "execution_count": 19,
   "id": "6d1e6639",
   "metadata": {},
   "outputs": [
    {
     "data": {
      "image/png": "[encoded data removed]",
      "text/plain": [
       "<Figure size 720x432 with 1 Axes>"
      ]
     },
     "metadata": {
      "needs_background": "light"
     },
     "output_type": "display_data"
    }
   ],
   "source": [
    "#number of flights that occurred in a particular month\n",
    "import seaborn as sns\n",
    "plt.figure(figsize=(10, 6))\n",
    "sns.countplot(data=df, x='Month', palette='coolwarm')\n",
    "plt.xlabel('Month')\n",
    "plt.ylabel('Frequency')\n",
    "plt.title('Count Plot of Flights per Month')\n",
    "plt.grid(axis='y')\n",
    "plt.show()\n"
   ]
  },
  {
   "cell_type": "code",
   "execution_count": 20,
   "id": "4c9343a5",
   "metadata": {},
   "outputs": [
    {
     "data": {
      "image/png": "[encoded data removed]",
      "text/plain": [
       "<Figure size 720x432 with 1 Axes>"
      ]
     },
     "metadata": {
      "needs_background": "light"
     },
     "output_type": "display_data"
    }
   ],
   "source": [
    "# Plot bar chart of DAY_OF_WEEK distribution\n",
    "plt.figure(figsize=(10, 6))\n",
    "sns.countplot(y='DayOfWeek', data=df, palette='coolwarm')\n",
    "plt.title('Distribution of Flights by Day of Week')\n",
    "plt.xlabel('Count')\n",
    "plt.ylabel('Day of Week')\n",
    "plt.show()\n"
   ]
  },
  {
   "cell_type": "code",
   "execution_count": 21,
   "id": "c51ea336",
   "metadata": {},
   "outputs": [
    {
     "data": {
      "image/png": "[encoded data removed]",
      "text/plain": [
       "<Figure size 864x576 with 1 Axes>"
      ]
     },
     "metadata": {
      "needs_background": "light"
     },
     "output_type": "display_data"
    }
   ],
   "source": [
    "import matplotlib.pyplot as plt\n",
    "\n",
    "plt.figure(figsize=(12, 8))\n",
    "df['WeatherCondition'].value_counts().plot(kind='barh', color=plt.cm.tab20c.colors)\n",
    "plt.title('Horizontal Bar Chart of Weather Conditions')\n",
    "plt.xlabel('Count')\n",
    "plt.ylabel('Condition')\n",
    "plt.show()\n"
   ]
  },
  {
   "cell_type": "markdown",
   "id": "4806ccf6",
   "metadata": {},
   "source": [
    "<h3><b> Build the model : </h3></b>\n",
    "\n",
    "* Feature Selection\n",
    "* Model Selection (lazypredict) \n",
    "* split the data \n",
    "* Train and Test the model\n",
    "* confusion matrix\n"
   ]
  },
  {
   "cell_type": "markdown",
   "id": "7754d6d1",
   "metadata": {},
   "source": [
    "*  <b> Feature Selection  </b>"
   ]
  },
  {
   "cell_type": "code",
   "execution_count": 82,
   "id": "1da7180e",
   "metadata": {},
   "outputs": [],
   "source": [
    "# Split dataset into features and target variable\n",
    "X = df.drop(['IS_DELAY', 'DepartureDelay'], axis=1)\n",
    "y = df['IS_DELAY']"
   ]
  },
  {
   "cell_type": "code",
   "execution_count": 83,
   "id": "43603510-d33c-4df4-a9ce-39b739686c27",
   "metadata": {},
   "outputs": [
    {
     "name": "stdout",
     "output_type": "stream",
     "text": [
      "                      Feature  Importance\n",
      "7      ScheduledDepartureTime    0.138555\n",
      "8         ActualDepartureTime    0.131775\n",
      "9        ScheduledArrivalTime    0.087104\n",
      "5        ScheduledJourneyTime    0.065985\n",
      "6                    Distance    0.059058\n",
      "20                TaxiOutTime    0.058969\n",
      "4                 Destination    0.057413\n",
      "3                     Carrier    0.051335\n",
      "19    ScheduledArrivalFlights    0.047006\n",
      "18  ScheduledDepartureFlights    0.044914\n",
      "16                   Pressure    0.031868\n",
      "10                Temperature    0.028087\n",
      "11                   DewPoint    0.027023\n",
      "14                  WindSpeed    0.026970\n",
      "12                   Humidity    0.026495\n",
      "13              WindDirection    0.023580\n",
      "1                  DayOfMonth    0.023073\n",
      "17           WeatherCondition    0.021012\n",
      "2                   DayOfWeek    0.020292\n",
      "0                       Month    0.017949\n",
      "15                   WindGust    0.011538\n"
     ]
    }
   ],
   "source": [
    "# Initialize and train the ExtraTreesClassifier\n",
    "model = ExtraTreesClassifier(n_estimators=10, random_state=42)\n",
    "model.fit(X, y)\n",
    "\n",
    "# Get feature importances\n",
    "feature_importances = model.feature_importances_\n",
    "\n",
    "# Create a DataFrame to associate features with their importances\n",
    "feature_importance_df = pd.DataFrame({'Feature': X.columns, 'Importance': feature_importances})\n",
    "\n",
    "# Sort the DataFrame by Importance in descending order\n",
    "feature_importance_df = feature_importance_df.sort_values(by='Importance', ascending=False)\n",
    "print(feature_importance_df)\n"
   ]
  },
  {
   "cell_type": "code",
   "execution_count": 84,
   "id": "3c37e38f-6aef-4e3b-bd0d-1d09084f42b5",
   "metadata": {},
   "outputs": [
    {
     "name": "stdout",
     "output_type": "stream",
     "text": [
      "Top 6 important features:\n",
      "                   Feature  Importance\n",
      "7   ScheduledDepartureTime    0.138555\n",
      "8      ActualDepartureTime    0.131775\n",
      "9     ScheduledArrivalTime    0.087104\n",
      "5     ScheduledJourneyTime    0.065985\n",
      "6                 Distance    0.059058\n",
      "20             TaxiOutTime    0.058969\n"
     ]
    }
   ],
   "source": [
    "# Print the first 6 important features\n",
    "print(\"Top 6 important features:\")\n",
    "top_imoprtant=feature_importance_df.head(6)\n",
    "print(top_imoprtant)"
   ]
  },
  {
   "cell_type": "code",
   "execution_count": 85,
   "id": "9a43b0ee-9ccb-4783-9143-4274d4835887",
   "metadata": {},
   "outputs": [
    {
     "data": {
      "text/plain": [
       "7     ScheduledDepartureTime\n",
       "8        ActualDepartureTime\n",
       "9       ScheduledArrivalTime\n",
       "5       ScheduledJourneyTime\n",
       "6                   Distance\n",
       "20               TaxiOutTime\n",
       "Name: Feature, dtype: object"
      ]
     },
     "execution_count": 85,
     "metadata": {},
     "output_type": "execute_result"
    }
   ],
   "source": [
    "top_imoprtant['Feature']"
   ]
  },
  {
   "cell_type": "markdown",
   "id": "ba4e6fa4",
   "metadata": {},
   "source": [
    "*  <b> split the data   </b>"
   ]
  },
  {
   "cell_type": "code",
   "execution_count": 86,
   "id": "36f5ed39",
   "metadata": {},
   "outputs": [],
   "source": [
    "features = feature_importance_df['Feature']\n",
    "target = 'IS_DELAY'\n",
    "\n",
    "#split the data into features (X) and target variable (y)\n",
    "X = df[features]\n",
    "y = df[target]\n",
    " \n",
    "#split the data into training (80%) and temporary set (20%)\n",
    "X_train, X_test, y_train, y_test = train_test_split(X, y, test_size=0.2,random_state=42)"
   ]
  },
  {
   "cell_type": "code",
   "execution_count": 87,
   "id": "55fc7274-825c-47b6-9a8d-19f41ddb5a7f",
   "metadata": {},
   "outputs": [
    {
     "name": "stdout",
     "output_type": "stream",
     "text": [
      "X_train shape: (23054, 21)\n",
      "y_train shape: (23054,)\n",
      "X_test shape: (5764, 21)\n",
      "y_test shape: (5764,)\n"
     ]
    }
   ],
   "source": [
    "# Shape of training data\n",
    "print(\"X_train shape:\", X_train.shape)  \n",
    "print(\"y_train shape:\", y_train.shape)  \n",
    "\n",
    "# Shape of test data\n",
    "print(\"X_test shape:\", X_test.shape)    \n",
    "print(\"y_test shape:\", y_test.shape)  "
   ]
  },
  {
   "cell_type": "code",
   "execution_count": 88,
   "id": "1d150134",
   "metadata": {},
   "outputs": [
    {
     "name": "stdout",
     "output_type": "stream",
     "text": [
      "<class 'pandas.core.frame.DataFrame'>\n",
      "Index: 28818 entries, 0 to 28819\n",
      "Data columns (total 23 columns):\n",
      " #   Column                     Non-Null Count  Dtype  \n",
      "---  ------                     --------------  -----  \n",
      " 0   Month                      28818 non-null  int64  \n",
      " 1   DayOfMonth                 28818 non-null  int64  \n",
      " 2   DayOfWeek                  28818 non-null  int64  \n",
      " 3   Carrier                    28818 non-null  int32  \n",
      " 4   Destination                28818 non-null  int32  \n",
      " 5   DepartureDelay             28818 non-null  int64  \n",
      " 6   ScheduledJourneyTime       28818 non-null  int64  \n",
      " 7   Distance                   28818 non-null  int64  \n",
      " 8   ScheduledDepartureTime     28818 non-null  int64  \n",
      " 9   ActualDepartureTime        28818 non-null  int64  \n",
      " 10  ScheduledArrivalTime       28818 non-null  int64  \n",
      " 11  Temperature                28818 non-null  int64  \n",
      " 12  DewPoint                   28818 non-null  int32  \n",
      " 13  Humidity                   28818 non-null  int64  \n",
      " 14  WindDirection              28818 non-null  int32  \n",
      " 15  WindSpeed                  28818 non-null  int64  \n",
      " 16  WindGust                   28818 non-null  int64  \n",
      " 17  Pressure                   28818 non-null  float64\n",
      " 18  WeatherCondition           28818 non-null  int32  \n",
      " 19  ScheduledDepartureFlights  28818 non-null  int64  \n",
      " 20  ScheduledArrivalFlights    28818 non-null  int64  \n",
      " 21  TaxiOutTime                28818 non-null  int64  \n",
      " 22  IS_DELAY                   28818 non-null  int64  \n",
      "dtypes: float64(1), int32(5), int64(17)\n",
      "memory usage: 4.7 MB\n"
     ]
    }
   ],
   "source": [
    "df.info()"
   ]
  },
  {
   "cell_type": "markdown",
   "id": "376ac67b",
   "metadata": {},
   "source": [
    "*  <b> Train and Test the model   </b>"
   ]
  },
  {
   "cell_type": "markdown",
   "id": "96e02465-8f00-4bb3-a355-869d9d7baf64",
   "metadata": {},
   "source": [
    "<b>RandomForest</b>"
   ]
  },
  {
   "cell_type": "code",
   "execution_count": 36,
   "id": "a66d32b4",
   "metadata": {},
   "outputs": [
    {
     "name": "stdout",
     "output_type": "stream",
     "text": [
      "Accuracy: 0.9122137404580153\n",
      "              precision    recall  f1-score   support\n",
      "\n",
      "           0       0.91      1.00      0.95      4973\n",
      "           1       0.93      0.39      0.55       791\n",
      "\n",
      "    accuracy                           0.91      5764\n",
      "   macro avg       0.92      0.69      0.75      5764\n",
      "weighted avg       0.91      0.91      0.90      5764\n",
      "\n"
     ]
    }
   ],
   "source": [
    "# Train Random Forest Classifier\n",
    "\n",
    "clf = RandomForestClassifier(random_state=42)\n",
    "\n",
    "clf.fit(X_train, y_train)\n",
    " \n",
    "# Make predictions\n",
    "\n",
    "y_pred = clf.predict(X_test)\n",
    " \n",
    "# Evaluate model\n",
    "\n",
    "print(\"Accuracy:\", accuracy_score(y_test, y_pred))\n",
    "\n",
    "print(classification_report(y_test, y_pred))"
   ]
  },
  {
   "cell_type": "code",
   "execution_count": 37,
   "id": "4d9c8ec6",
   "metadata": {},
   "outputs": [
    {
     "name": "stdout",
     "output_type": "stream",
     "text": [
      "Precision: 0.9279279279279279\n",
      "Recall: 0.3906447534766119\n",
      "F1 Score: 0.5498220640569395\n"
     ]
    }
   ],
   "source": [
    "from sklearn.metrics import precision_score, recall_score\n",
    "from sklearn.metrics import f1_score\n",
    "\n",
    "# Calculate precision\n",
    "precision = precision_score(y_test, y_pred)\n",
    "\n",
    "# Calculate recall\n",
    "recall = recall_score(y_test, y_pred)\n",
    "\n",
    "print(\"Precision:\", precision)\n",
    "print(\"Recall:\", recall)\n",
    "f1 = f1_score(y_test, y_pred)\n",
    "\n",
    "print(\"F1 Score:\", f1)"
   ]
  },
  {
   "cell_type": "markdown",
   "id": "432f6713-7d11-4978-ae15-ed54adbdfc6e",
   "metadata": {},
   "source": [
    "<b>DecisionTree</b>"
   ]
  },
  {
   "cell_type": "code",
   "execution_count": 89,
   "id": "f4340010-91a8-48a7-bc60-dadd1ad5a039",
   "metadata": {},
   "outputs": [
    {
     "name": "stdout",
     "output_type": "stream",
     "text": [
      "Accuracy: 0.9684247050659265\n",
      "              precision    recall  f1-score   support\n",
      "\n",
      "           0       0.98      0.98      0.98      4967\n",
      "           1       0.89      0.88      0.88       797\n",
      "\n",
      "    accuracy                           0.97      5764\n",
      "   macro avg       0.94      0.93      0.93      5764\n",
      "weighted avg       0.97      0.97      0.97      5764\n",
      "\n"
     ]
    }
   ],
   "source": [
    "# Initialize Decision Tree Classifier\n",
    "clf = DecisionTreeClassifier(criterion='gini', max_depth=None , random_state=42)\n",
    "\n",
    "# Train the classifier\n",
    "clf.fit(X_train, y_train)\n",
    "\n",
    "# Make predictions\n",
    "y_pred = clf.predict(X_test)\n",
    "\n",
    "# Evaluate model\n",
    "print(\"Accuracy:\", accuracy_score(y_test, y_pred))\n",
    "print(classification_report(y_test, y_pred))\n"
   ]
  },
  {
   "cell_type": "code",
   "execution_count": 63,
   "id": "e8907f17",
   "metadata": {},
   "outputs": [
    {
     "name": "stdout",
     "output_type": "stream",
     "text": [
      "Best parameters: {'criterion': 'gini', 'max_depth': None, 'min_samples_leaf': 1, 'min_samples_split': 2}\n"
     ]
    }
   ],
   "source": [
    "# Define the hyperparameters grid\n",
    "param_grid = {\n",
    "    'criterion': ['gini', 'entropy'],\n",
    "    'max_depth': [None, 5, 10, 15, 20],\n",
    "    'min_samples_split': [2, 5, 10],\n",
    "    'min_samples_leaf': [1, 2, 4]\n",
    "}\n",
    "# Create the decision tree classifier\n",
    "dt_clf = DecisionTreeClassifier(random_state=4)\n",
    "# Instantiate GridSearchCV\n",
    "grid_search = GridSearchCV(dt_clf, param_grid, cv=5, n_jobs=-1)\n",
    "# Print the best parameters found\n",
    "print(\"Best parameters:\", grid_search.best_params_)"
   ]
  },
  {
   "cell_type": "code",
   "execution_count": 39,
   "id": "23ee8558",
   "metadata": {},
   "outputs": [
    {
     "name": "stdout",
     "output_type": "stream",
     "text": [
      "Precision: 0.9224598930481284\n",
      "Recall: 0.8723135271807838\n",
      "F1 Score: 0.8966861598440545\n"
     ]
    }
   ],
   "source": [
    "from sklearn.metrics import precision_score, recall_score\n",
    "# Calculate precision\n",
    "precision = precision_score(y_test, y_pred)\n",
    "\n",
    "# Calculate recall\n",
    "recall = recall_score(y_test, y_pred)\n",
    "\n",
    "print(\"Precision:\", precision)\n",
    "print(\"Recall:\", recall)\n",
    "f1 = f1_score(y_test, y_pred)\n",
    "\n",
    "print(\"F1 Score:\", f1)"
   ]
  },
  {
   "cell_type": "markdown",
   "id": "bff3c87e",
   "metadata": {},
   "source": [
    "<b>LogisticRegression</b>"
   ]
  },
  {
   "cell_type": "code",
   "execution_count": 40,
   "id": "b94d9ec3-9290-4aa9-96de-79e610198d37",
   "metadata": {},
   "outputs": [
    {
     "name": "stdout",
     "output_type": "stream",
     "text": [
      "Accuracy: 0.8645038167938931\n",
      "              precision    recall  f1-score   support\n",
      "\n",
      "           0       0.86      1.00      0.93      4973\n",
      "           1       0.81      0.02      0.03       791\n",
      "\n",
      "    accuracy                           0.86      5764\n",
      "   macro avg       0.84      0.51      0.48      5764\n",
      "weighted avg       0.86      0.86      0.80      5764\n",
      "\n"
     ]
    }
   ],
   "source": [
    "# Initialize Logistic Regression Classifier\n",
    "clf = LogisticRegression(random_state=42)\n",
    "\n",
    "# Train the classifier\n",
    "clf.fit(X_train, y_train)\n",
    "\n",
    "# Make predictions\n",
    "y_pred = clf.predict(X_test)\n",
    "\n",
    "# Evaluate model\n",
    "print(\"Accuracy:\", accuracy_score(y_test, y_pred))\n",
    "print(classification_report(y_test, y_pred))"
   ]
  },
  {
   "cell_type": "code",
   "execution_count": 41,
   "id": "ce5df864",
   "metadata": {},
   "outputs": [
    {
     "name": "stdout",
     "output_type": "stream",
     "text": [
      "Precision: 0.8125\n",
      "Recall: 0.01643489254108723\n",
      "F1 Score: 0.0322180916976456\n"
     ]
    }
   ],
   "source": [
    "from sklearn.metrics import precision_score, recall_score\n",
    "\n",
    "# Calculate precision\n",
    "precision = precision_score(y_test, y_pred)\n",
    "\n",
    "# Calculate recall\n",
    "recall = recall_score(y_test, y_pred)\n",
    "\n",
    "print(\"Precision:\", precision)\n",
    "print(\"Recall:\", recall)\n",
    "f1 = f1_score(y_test, y_pred)\n",
    "\n",
    "print(\"F1 Score:\", f1)"
   ]
  },
  {
   "cell_type": "markdown",
   "id": "d198040c",
   "metadata": {},
   "source": [
    "*  <b> Confusion matrix   </b>"
   ]
  },
  {
   "cell_type": "code",
   "execution_count": 90,
   "id": "8bf0baa5-efe6-43bf-b07d-3e8e6fa6fb57",
   "metadata": {},
   "outputs": [
    {
     "data": {
      "image/png": "[encoded data removed]",
      "text/plain": [
       "<Figure size 576x432 with 1 Axes>"
      ]
     },
     "metadata": {
      "needs_background": "light"
     },
     "output_type": "display_data"
    }
   ],
   "source": [
    "# Calculate confusion matrix\n",
    "cm = confusion_matrix(y_test, y_pred)\n",
    "\n",
    "# Plot confusion matrix as a heatmap\n",
    "plt.figure(figsize=(8, 6))\n",
    "sns.heatmap(cm, annot=True, fmt='d', cmap='Blues', cbar=False)\n",
    "plt.title('Confusion Matrix')\n",
    "plt.xlabel('Predicted Labels')\n",
    "plt.ylabel('True Labels')\n",
    "plt.show()\n"
   ]
  },
  {
   "cell_type": "markdown",
   "id": "0fbce2d9",
   "metadata": {},
   "source": [
    "*  <b> GUI   </b>"
   ]
  },
  {
   "cell_type": "code",
   "execution_count": 54,
   "id": "a3f4a08f",
   "metadata": {},
   "outputs": [],
   "source": [
    "df=pd.read_csv('M1_final.csv')"
   ]
  },
  {
   "cell_type": "code",
   "execution_count": null,
   "id": "5b83575f",
   "metadata": {},
   "outputs": [],
   "source": [
    "import tkinter as tk\n",
    "from tkinter import ttk\n",
    "def show_data():\n",
    "    # Get the selected month\n",
    "    selected_month = month_var.get()\n",
    "    selected_day_of_month = int(day_of_month_entry.get())\n",
    "    selected_day_of_week = int(day_of_week_entry.get())\n",
    "\n",
    "    # Filter the data based on the selected month, day of month, and day of week\n",
    "    filtered_df = df[(df[\"MONTH\"] == selected_month) & \n",
    "                     (df[\"DAY_OF_MONTH\"] == selected_day_of_month) &\n",
    "                     (df[\"DAY_OF_WEEK\"] == selected_day_of_week)]\n",
    "\n",
    "    # Determine if any flight on that day was delayed or not based on the departure delay\n",
    "    delayed_flights = filtered_df[filtered_df[\"DEP_DELAY\"] > 15]\n",
    "    \n",
    "    if not delayed_flights.empty:\n",
    "        delayed_tail_numbers = delayed_flights[\"TAIL_NUM\"].tolist()\n",
    "        result_label.config(text=\"Flight Delayed. Tail Numbers:\")\n",
    "        for tail_number in delayed_tail_numbers:\n",
    "            result_label.config(text=result_label.cget(\"text\") + f\"\\n{tail_number}\")\n",
    "    else:\n",
    "        result_label.config(text=\"No delayed flights on selected day\")\n",
    "\n",
    "# Create the main window\n",
    "root = tk.Tk()\n",
    "root.title(\"Flight Data GUI\")\n",
    "root.geometry(\"1000x1000\")  # Set the size of the window\n",
    "\n",
    "# Label for the month\n",
    "month_label = ttk.Label(root, text=\"Month:\")\n",
    "month_label.pack()\n",
    "\n",
    "# Radio buttons for selecting the month\n",
    "month_var = tk.IntVar()\n",
    "month_var.set(11)  # Default to November\n",
    "month_frame = ttk.Frame(root)\n",
    "month_frame.pack()\n",
    "for month in [11, 12, 1]:\n",
    "    ttk.Radiobutton(month_frame, text=str(month), variable=month_var, value=month).pack(side=\"left\")\n",
    "\n",
    "# Inputs for day of the month and day of the week\n",
    "day_of_month_label = ttk.Label(root, text=\"Day of Month:\")\n",
    "day_of_month_label.pack()\n",
    "day_of_month_entry = ttk.Entry(root)\n",
    "day_of_month_entry.pack()\n",
    "\n",
    "day_of_week_label = ttk.Label(root, text=\"Day of Week:\")\n",
    "day_of_week_label.pack()\n",
    "day_of_week_entry = ttk.Entry(root)\n",
    "day_of_week_entry.pack()\n",
    "\n",
    "# Button to show data\n",
    "show_data_button = ttk.Button(root, text=\"Show Data\", command=show_data)\n",
    "show_data_button.pack()\n",
    "\n",
    "# Label to display the result\n",
    "result_label = ttk.Label(root, text=\"\")\n",
    "result_label.pack()\n",
    "\n",
    "root.mainloop()\n"
   ]
  }
 ],
 "metadata": {
  "colab": {
   "provenance": []
  },
  "kernelspec": {
   "display_name": "Python 3",
   "language": "python",
   "name": "python3"
  },
  "language_info": {
   "codemirror_mode": {
    "name": "ipython",
    "version": 3
   },
   "file_extension": ".py",
   "mimetype": "text/x-python",
   "name": "python",
   "nbconvert_exporter": "python",
   "pygments_lexer": "ipython3",
   "version": "3.8.8"
  }
 },
 "nbformat": 4,
 "nbformat_minor": 5
}
